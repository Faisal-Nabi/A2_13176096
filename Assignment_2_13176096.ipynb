{
  "nbformat": 4,
  "nbformat_minor": 0,
  "metadata": {
    "colab": {
      "name": "Assignment_2_13176096.ipynb",
      "provenance": [],
      "collapsed_sections": []
    },
    "kernelspec": {
      "name": "python3",
      "display_name": "Python 3"
    }
  },
  "cells": [
    {
      "cell_type": "markdown",
      "metadata": {
        "id": "3OSzzMYYQZqo",
        "colab_type": "text"
      },
      "source": [
        "#Assignment 2\n"
      ]
    },
    {
      "cell_type": "markdown",
      "metadata": {
        "id": "8EG3B-HGQixm",
        "colab_type": "text"
      },
      "source": [
        "##Introduction"
      ]
    },
    {
      "cell_type": "markdown",
      "metadata": {
        "id": "AUfp9ltZv2SE",
        "colab_type": "text"
      },
      "source": [
        "The heart disease is the common cause of death among people living across the global. According to the **Heart Disease and Stroke Statistics 2019**, every 4 out of 10 death is of death disease in United States. Different factors such as cholesterol, high blood pressure and sugar can all lead up to heart diseases which can cause death. The sole purpose of predicting the cause of the heart disease is to get better understanding of the factors which contributes into the different diseases. There are 3 types of heart diseases; Coronary Artery Disease (acronym CAD), Congestive Heart Failure (CHF), Bad Heart Rhythms. All these have different risk factors.\n",
        "\n",
        "The goal is to find weather the patient have heart disease. The algorithms will help in analysing the risk factors behind the diseases which will give doctors or patients the better idea of which risk factor to look into for removing the disease. Also, knowing the factors beforehand will save patient life and that’s the main purpose of building the best model.The algorithm will answer the question \"Does the patient have the heart diease?\" The answer will be in 0 and 1 which is 0 for no disease and 1 for disease.\n",
        "\n",
        "In this report, different algorithm are used to find the best model for “Cause of disease in human being” dataset. The dataset is taken kaggal from cleveland database.Firstly EDA is performed to look into the relationship among different heart disease with different risk factors leading up to it. After EDA, the machine learning models were build and the accuracy was detected based on the inputs. The comparsion is done with different machine learning algorithm.The model which will give best accuracy will be choosen. Later on, the classification report was build to check the f-1 score for the model.\n"
      ]
    },
    {
      "cell_type": "markdown",
      "metadata": {
        "id": "URYj3LEPwE_i",
        "colab_type": "text"
      },
      "source": [
        "##Input"
      ]
    },
    {
      "cell_type": "markdown",
      "metadata": {
        "id": "6hFs1YZJwJBz",
        "colab_type": "text"
      },
      "source": [
        "There are 13 inputs: age, sex, cp, trestbps, chol, fbs, restecg, thalach, exang, oldpeak, slope, ca, thal\n"
      ]
    },
    {
      "cell_type": "markdown",
      "metadata": {
        "id": "UR7KhUTxwotZ",
        "colab_type": "text"
      },
      "source": [
        "##Output"
      ]
    },
    {
      "cell_type": "markdown",
      "metadata": {
        "id": "jqbRfLqMwq8l",
        "colab_type": "text"
      },
      "source": [
        "The output is the target value which is 0 and 1. The 0 means that a patient don’t have a heart disease and 1 means that patient have a heart disease. "
      ]
    },
    {
      "cell_type": "markdown",
      "metadata": {
        "id": "HWb0zZIiRhi_",
        "colab_type": "text"
      },
      "source": [
        "## Exploration\n"
      ]
    },
    {
      "cell_type": "markdown",
      "metadata": {
        "id": "0paWgAUdSPcg",
        "colab_type": "text"
      },
      "source": [
        "The dataset is clean and tidy but the column name are not easy to understand so the first challenge is to understand the column and name them accordingly. Later, the second challenge is to find the correlation between different columns. The thrid challenge is to use the important feature to pridcit the target value and lastly to find the best machine algorithm to answer the problem. All of these challenges will be solve in this step.\n",
        "\n",
        "The first step in data analysis is data exploration. I will install the library first to make sure that the data is imported and later the visulaization and algorithm will be used."
      ]
    },
    {
      "cell_type": "code",
      "metadata": {
        "id": "refDbz6EadQJ",
        "colab_type": "code",
        "colab": {}
      },
      "source": [
        "import pandas as pd\n",
        "import numpy as num\n",
        "import seaborn as sns\n",
        "import matplotlib.pyplot as plt\n",
        "from matplotlib import rcParams\n",
        "\n",
        "\n",
        "import warnings as warn\n",
        "warn.filterwarnings('ignore')"
      ],
      "execution_count": 0,
      "outputs": []
    },
    {
      "cell_type": "code",
      "metadata": {
        "id": "HVVnyOLLatVP",
        "colab_type": "code",
        "colab": {}
      },
      "source": [
        "\n",
        "import io\n",
        "import requests\n",
        "url=\"https://raw.githubusercontent.com/Faisal-Nabi/A2_13176096/master/heart.csv\"\n",
        "s=requests.get(url).content\n",
        "df=pd.read_csv(io.StringIO(s.decode('utf-8')))"
      ],
      "execution_count": 0,
      "outputs": []
    },
    {
      "cell_type": "code",
      "metadata": {
        "id": "bymPelKwbHFr",
        "colab_type": "code",
        "outputId": "82184a5c-9e13-410b-e361-5422703abb47",
        "colab": {
          "base_uri": "https://localhost:8080/",
          "height": 195
        }
      },
      "source": [
        "df.head()"
      ],
      "execution_count": 3,
      "outputs": [
        {
          "output_type": "execute_result",
          "data": {
            "text/html": [
              "<div>\n",
              "<style scoped>\n",
              "    .dataframe tbody tr th:only-of-type {\n",
              "        vertical-align: middle;\n",
              "    }\n",
              "\n",
              "    .dataframe tbody tr th {\n",
              "        vertical-align: top;\n",
              "    }\n",
              "\n",
              "    .dataframe thead th {\n",
              "        text-align: right;\n",
              "    }\n",
              "</style>\n",
              "<table border=\"1\" class=\"dataframe\">\n",
              "  <thead>\n",
              "    <tr style=\"text-align: right;\">\n",
              "      <th></th>\n",
              "      <th>age</th>\n",
              "      <th>sex</th>\n",
              "      <th>cp</th>\n",
              "      <th>trestbps</th>\n",
              "      <th>chol</th>\n",
              "      <th>fbs</th>\n",
              "      <th>restecg</th>\n",
              "      <th>thalach</th>\n",
              "      <th>exang</th>\n",
              "      <th>oldpeak</th>\n",
              "      <th>slope</th>\n",
              "      <th>ca</th>\n",
              "      <th>thal</th>\n",
              "      <th>target</th>\n",
              "    </tr>\n",
              "  </thead>\n",
              "  <tbody>\n",
              "    <tr>\n",
              "      <th>0</th>\n",
              "      <td>63</td>\n",
              "      <td>1</td>\n",
              "      <td>3</td>\n",
              "      <td>145</td>\n",
              "      <td>233</td>\n",
              "      <td>1</td>\n",
              "      <td>0</td>\n",
              "      <td>150</td>\n",
              "      <td>0</td>\n",
              "      <td>2.3</td>\n",
              "      <td>0</td>\n",
              "      <td>0</td>\n",
              "      <td>1</td>\n",
              "      <td>1</td>\n",
              "    </tr>\n",
              "    <tr>\n",
              "      <th>1</th>\n",
              "      <td>37</td>\n",
              "      <td>1</td>\n",
              "      <td>2</td>\n",
              "      <td>130</td>\n",
              "      <td>250</td>\n",
              "      <td>0</td>\n",
              "      <td>1</td>\n",
              "      <td>187</td>\n",
              "      <td>0</td>\n",
              "      <td>3.5</td>\n",
              "      <td>0</td>\n",
              "      <td>0</td>\n",
              "      <td>2</td>\n",
              "      <td>1</td>\n",
              "    </tr>\n",
              "    <tr>\n",
              "      <th>2</th>\n",
              "      <td>41</td>\n",
              "      <td>0</td>\n",
              "      <td>1</td>\n",
              "      <td>130</td>\n",
              "      <td>204</td>\n",
              "      <td>0</td>\n",
              "      <td>0</td>\n",
              "      <td>172</td>\n",
              "      <td>0</td>\n",
              "      <td>1.4</td>\n",
              "      <td>2</td>\n",
              "      <td>0</td>\n",
              "      <td>2</td>\n",
              "      <td>1</td>\n",
              "    </tr>\n",
              "    <tr>\n",
              "      <th>3</th>\n",
              "      <td>56</td>\n",
              "      <td>1</td>\n",
              "      <td>1</td>\n",
              "      <td>120</td>\n",
              "      <td>236</td>\n",
              "      <td>0</td>\n",
              "      <td>1</td>\n",
              "      <td>178</td>\n",
              "      <td>0</td>\n",
              "      <td>0.8</td>\n",
              "      <td>2</td>\n",
              "      <td>0</td>\n",
              "      <td>2</td>\n",
              "      <td>1</td>\n",
              "    </tr>\n",
              "    <tr>\n",
              "      <th>4</th>\n",
              "      <td>57</td>\n",
              "      <td>0</td>\n",
              "      <td>0</td>\n",
              "      <td>120</td>\n",
              "      <td>354</td>\n",
              "      <td>0</td>\n",
              "      <td>1</td>\n",
              "      <td>163</td>\n",
              "      <td>1</td>\n",
              "      <td>0.6</td>\n",
              "      <td>2</td>\n",
              "      <td>0</td>\n",
              "      <td>2</td>\n",
              "      <td>1</td>\n",
              "    </tr>\n",
              "  </tbody>\n",
              "</table>\n",
              "</div>"
            ],
            "text/plain": [
              "   age  sex  cp  trestbps  chol  fbs  ...  exang  oldpeak  slope  ca  thal  target\n",
              "0   63    1   3       145   233    1  ...      0      2.3      0   0     1       1\n",
              "1   37    1   2       130   250    0  ...      0      3.5      0   0     2       1\n",
              "2   41    0   1       130   204    0  ...      0      1.4      2   0     2       1\n",
              "3   56    1   1       120   236    0  ...      0      0.8      2   0     2       1\n",
              "4   57    0   0       120   354    0  ...      1      0.6      2   0     2       1\n",
              "\n",
              "[5 rows x 14 columns]"
            ]
          },
          "metadata": {
            "tags": []
          },
          "execution_count": 3
        }
      ]
    },
    {
      "cell_type": "markdown",
      "metadata": {
        "id": "G1FA5AIkbLMr",
        "colab_type": "text"
      },
      "source": [
        "The data shows different columns. The name of the columns doesn't make any sense. Let rename the columns to make it more readable.\n",
        "\n"
      ]
    },
    {
      "cell_type": "code",
      "metadata": {
        "id": "vuQ9W1zvbQob",
        "colab_type": "code",
        "colab": {}
      },
      "source": [
        "df.columns = ['age', 'gender', 'chest_pain_type', 'blood_pressure', 'cholesterol', 'blood_sugar', 'ECG', 'max_heart_rate_achieved',\n",
        "       'exercise_induced_angina', 'st_depression', 'st_slope', 'num_major_vessels', 'thalassemia', 'target']\n"
      ],
      "execution_count": 0,
      "outputs": []
    },
    {
      "cell_type": "code",
      "metadata": {
        "id": "gmItZKX_cdN8",
        "colab_type": "code",
        "outputId": "4b85f091-e405-41e2-b605-e7fcaf23ed99",
        "colab": {
          "base_uri": "https://localhost:8080/",
          "height": 215
        }
      },
      "source": [
        "df.head()"
      ],
      "execution_count": 5,
      "outputs": [
        {
          "output_type": "execute_result",
          "data": {
            "text/html": [
              "<div>\n",
              "<style scoped>\n",
              "    .dataframe tbody tr th:only-of-type {\n",
              "        vertical-align: middle;\n",
              "    }\n",
              "\n",
              "    .dataframe tbody tr th {\n",
              "        vertical-align: top;\n",
              "    }\n",
              "\n",
              "    .dataframe thead th {\n",
              "        text-align: right;\n",
              "    }\n",
              "</style>\n",
              "<table border=\"1\" class=\"dataframe\">\n",
              "  <thead>\n",
              "    <tr style=\"text-align: right;\">\n",
              "      <th></th>\n",
              "      <th>age</th>\n",
              "      <th>gender</th>\n",
              "      <th>chest_pain_type</th>\n",
              "      <th>blood_pressure</th>\n",
              "      <th>cholesterol</th>\n",
              "      <th>blood_sugar</th>\n",
              "      <th>ECG</th>\n",
              "      <th>max_heart_rate_achieved</th>\n",
              "      <th>exercise_induced_angina</th>\n",
              "      <th>st_depression</th>\n",
              "      <th>st_slope</th>\n",
              "      <th>num_major_vessels</th>\n",
              "      <th>thalassemia</th>\n",
              "      <th>target</th>\n",
              "    </tr>\n",
              "  </thead>\n",
              "  <tbody>\n",
              "    <tr>\n",
              "      <th>0</th>\n",
              "      <td>63</td>\n",
              "      <td>1</td>\n",
              "      <td>3</td>\n",
              "      <td>145</td>\n",
              "      <td>233</td>\n",
              "      <td>1</td>\n",
              "      <td>0</td>\n",
              "      <td>150</td>\n",
              "      <td>0</td>\n",
              "      <td>2.3</td>\n",
              "      <td>0</td>\n",
              "      <td>0</td>\n",
              "      <td>1</td>\n",
              "      <td>1</td>\n",
              "    </tr>\n",
              "    <tr>\n",
              "      <th>1</th>\n",
              "      <td>37</td>\n",
              "      <td>1</td>\n",
              "      <td>2</td>\n",
              "      <td>130</td>\n",
              "      <td>250</td>\n",
              "      <td>0</td>\n",
              "      <td>1</td>\n",
              "      <td>187</td>\n",
              "      <td>0</td>\n",
              "      <td>3.5</td>\n",
              "      <td>0</td>\n",
              "      <td>0</td>\n",
              "      <td>2</td>\n",
              "      <td>1</td>\n",
              "    </tr>\n",
              "    <tr>\n",
              "      <th>2</th>\n",
              "      <td>41</td>\n",
              "      <td>0</td>\n",
              "      <td>1</td>\n",
              "      <td>130</td>\n",
              "      <td>204</td>\n",
              "      <td>0</td>\n",
              "      <td>0</td>\n",
              "      <td>172</td>\n",
              "      <td>0</td>\n",
              "      <td>1.4</td>\n",
              "      <td>2</td>\n",
              "      <td>0</td>\n",
              "      <td>2</td>\n",
              "      <td>1</td>\n",
              "    </tr>\n",
              "    <tr>\n",
              "      <th>3</th>\n",
              "      <td>56</td>\n",
              "      <td>1</td>\n",
              "      <td>1</td>\n",
              "      <td>120</td>\n",
              "      <td>236</td>\n",
              "      <td>0</td>\n",
              "      <td>1</td>\n",
              "      <td>178</td>\n",
              "      <td>0</td>\n",
              "      <td>0.8</td>\n",
              "      <td>2</td>\n",
              "      <td>0</td>\n",
              "      <td>2</td>\n",
              "      <td>1</td>\n",
              "    </tr>\n",
              "    <tr>\n",
              "      <th>4</th>\n",
              "      <td>57</td>\n",
              "      <td>0</td>\n",
              "      <td>0</td>\n",
              "      <td>120</td>\n",
              "      <td>354</td>\n",
              "      <td>0</td>\n",
              "      <td>1</td>\n",
              "      <td>163</td>\n",
              "      <td>1</td>\n",
              "      <td>0.6</td>\n",
              "      <td>2</td>\n",
              "      <td>0</td>\n",
              "      <td>2</td>\n",
              "      <td>1</td>\n",
              "    </tr>\n",
              "  </tbody>\n",
              "</table>\n",
              "</div>"
            ],
            "text/plain": [
              "   age  gender  chest_pain_type  ...  num_major_vessels  thalassemia  target\n",
              "0   63       1                3  ...                  0            1       1\n",
              "1   37       1                2  ...                  0            2       1\n",
              "2   41       0                1  ...                  0            2       1\n",
              "3   56       1                1  ...                  0            2       1\n",
              "4   57       0                0  ...                  0            2       1\n",
              "\n",
              "[5 rows x 14 columns]"
            ]
          },
          "metadata": {
            "tags": []
          },
          "execution_count": 5
        }
      ]
    },
    {
      "cell_type": "code",
      "metadata": {
        "id": "zU9eu8mCceKM",
        "colab_type": "code",
        "outputId": "d1a22cdc-2e67-46fa-a04e-29965ccbe869",
        "colab": {
          "base_uri": "https://localhost:8080/",
          "height": 34
        }
      },
      "source": [
        "## Lets check the total number of columns\n",
        "df.shape"
      ],
      "execution_count": 6,
      "outputs": [
        {
          "output_type": "execute_result",
          "data": {
            "text/plain": [
              "(303, 14)"
            ]
          },
          "metadata": {
            "tags": []
          },
          "execution_count": 6
        }
      ]
    },
    {
      "cell_type": "code",
      "metadata": {
        "id": "zohLyEV8chTs",
        "colab_type": "code",
        "outputId": "8e21ec41-7159-44ae-fd2c-53c78c9291fa",
        "colab": {
          "base_uri": "https://localhost:8080/",
          "height": 336
        }
      },
      "source": [
        "df.info()"
      ],
      "execution_count": 7,
      "outputs": [
        {
          "output_type": "stream",
          "text": [
            "<class 'pandas.core.frame.DataFrame'>\n",
            "RangeIndex: 303 entries, 0 to 302\n",
            "Data columns (total 14 columns):\n",
            "age                        303 non-null int64\n",
            "gender                     303 non-null int64\n",
            "chest_pain_type            303 non-null int64\n",
            "blood_pressure             303 non-null int64\n",
            "cholesterol                303 non-null int64\n",
            "blood_sugar                303 non-null int64\n",
            "ECG                        303 non-null int64\n",
            "max_heart_rate_achieved    303 non-null int64\n",
            "exercise_induced_angina    303 non-null int64\n",
            "st_depression              303 non-null float64\n",
            "st_slope                   303 non-null int64\n",
            "num_major_vessels          303 non-null int64\n",
            "thalassemia                303 non-null int64\n",
            "target                     303 non-null int64\n",
            "dtypes: float64(1), int64(13)\n",
            "memory usage: 33.2 KB\n"
          ],
          "name": "stdout"
        }
      ]
    },
    {
      "cell_type": "code",
      "metadata": {
        "id": "qV7Lw2Tocmms",
        "colab_type": "code",
        "outputId": "5b42545b-03fc-4d31-adc9-c0fe010ec9d0",
        "colab": {
          "base_uri": "https://localhost:8080/",
          "height": 304
        }
      },
      "source": [
        "df.describe()"
      ],
      "execution_count": 8,
      "outputs": [
        {
          "output_type": "execute_result",
          "data": {
            "text/html": [
              "<div>\n",
              "<style scoped>\n",
              "    .dataframe tbody tr th:only-of-type {\n",
              "        vertical-align: middle;\n",
              "    }\n",
              "\n",
              "    .dataframe tbody tr th {\n",
              "        vertical-align: top;\n",
              "    }\n",
              "\n",
              "    .dataframe thead th {\n",
              "        text-align: right;\n",
              "    }\n",
              "</style>\n",
              "<table border=\"1\" class=\"dataframe\">\n",
              "  <thead>\n",
              "    <tr style=\"text-align: right;\">\n",
              "      <th></th>\n",
              "      <th>age</th>\n",
              "      <th>gender</th>\n",
              "      <th>chest_pain_type</th>\n",
              "      <th>blood_pressure</th>\n",
              "      <th>cholesterol</th>\n",
              "      <th>blood_sugar</th>\n",
              "      <th>ECG</th>\n",
              "      <th>max_heart_rate_achieved</th>\n",
              "      <th>exercise_induced_angina</th>\n",
              "      <th>st_depression</th>\n",
              "      <th>st_slope</th>\n",
              "      <th>num_major_vessels</th>\n",
              "      <th>thalassemia</th>\n",
              "      <th>target</th>\n",
              "    </tr>\n",
              "  </thead>\n",
              "  <tbody>\n",
              "    <tr>\n",
              "      <th>count</th>\n",
              "      <td>303.000000</td>\n",
              "      <td>303.000000</td>\n",
              "      <td>303.000000</td>\n",
              "      <td>303.000000</td>\n",
              "      <td>303.000000</td>\n",
              "      <td>303.000000</td>\n",
              "      <td>303.000000</td>\n",
              "      <td>303.000000</td>\n",
              "      <td>303.000000</td>\n",
              "      <td>303.000000</td>\n",
              "      <td>303.000000</td>\n",
              "      <td>303.000000</td>\n",
              "      <td>303.000000</td>\n",
              "      <td>303.000000</td>\n",
              "    </tr>\n",
              "    <tr>\n",
              "      <th>mean</th>\n",
              "      <td>54.366337</td>\n",
              "      <td>0.683168</td>\n",
              "      <td>0.966997</td>\n",
              "      <td>131.623762</td>\n",
              "      <td>246.264026</td>\n",
              "      <td>0.148515</td>\n",
              "      <td>0.528053</td>\n",
              "      <td>149.646865</td>\n",
              "      <td>0.326733</td>\n",
              "      <td>1.039604</td>\n",
              "      <td>1.399340</td>\n",
              "      <td>0.729373</td>\n",
              "      <td>2.313531</td>\n",
              "      <td>0.544554</td>\n",
              "    </tr>\n",
              "    <tr>\n",
              "      <th>std</th>\n",
              "      <td>9.082101</td>\n",
              "      <td>0.466011</td>\n",
              "      <td>1.032052</td>\n",
              "      <td>17.538143</td>\n",
              "      <td>51.830751</td>\n",
              "      <td>0.356198</td>\n",
              "      <td>0.525860</td>\n",
              "      <td>22.905161</td>\n",
              "      <td>0.469794</td>\n",
              "      <td>1.161075</td>\n",
              "      <td>0.616226</td>\n",
              "      <td>1.022606</td>\n",
              "      <td>0.612277</td>\n",
              "      <td>0.498835</td>\n",
              "    </tr>\n",
              "    <tr>\n",
              "      <th>min</th>\n",
              "      <td>29.000000</td>\n",
              "      <td>0.000000</td>\n",
              "      <td>0.000000</td>\n",
              "      <td>94.000000</td>\n",
              "      <td>126.000000</td>\n",
              "      <td>0.000000</td>\n",
              "      <td>0.000000</td>\n",
              "      <td>71.000000</td>\n",
              "      <td>0.000000</td>\n",
              "      <td>0.000000</td>\n",
              "      <td>0.000000</td>\n",
              "      <td>0.000000</td>\n",
              "      <td>0.000000</td>\n",
              "      <td>0.000000</td>\n",
              "    </tr>\n",
              "    <tr>\n",
              "      <th>25%</th>\n",
              "      <td>47.500000</td>\n",
              "      <td>0.000000</td>\n",
              "      <td>0.000000</td>\n",
              "      <td>120.000000</td>\n",
              "      <td>211.000000</td>\n",
              "      <td>0.000000</td>\n",
              "      <td>0.000000</td>\n",
              "      <td>133.500000</td>\n",
              "      <td>0.000000</td>\n",
              "      <td>0.000000</td>\n",
              "      <td>1.000000</td>\n",
              "      <td>0.000000</td>\n",
              "      <td>2.000000</td>\n",
              "      <td>0.000000</td>\n",
              "    </tr>\n",
              "    <tr>\n",
              "      <th>50%</th>\n",
              "      <td>55.000000</td>\n",
              "      <td>1.000000</td>\n",
              "      <td>1.000000</td>\n",
              "      <td>130.000000</td>\n",
              "      <td>240.000000</td>\n",
              "      <td>0.000000</td>\n",
              "      <td>1.000000</td>\n",
              "      <td>153.000000</td>\n",
              "      <td>0.000000</td>\n",
              "      <td>0.800000</td>\n",
              "      <td>1.000000</td>\n",
              "      <td>0.000000</td>\n",
              "      <td>2.000000</td>\n",
              "      <td>1.000000</td>\n",
              "    </tr>\n",
              "    <tr>\n",
              "      <th>75%</th>\n",
              "      <td>61.000000</td>\n",
              "      <td>1.000000</td>\n",
              "      <td>2.000000</td>\n",
              "      <td>140.000000</td>\n",
              "      <td>274.500000</td>\n",
              "      <td>0.000000</td>\n",
              "      <td>1.000000</td>\n",
              "      <td>166.000000</td>\n",
              "      <td>1.000000</td>\n",
              "      <td>1.600000</td>\n",
              "      <td>2.000000</td>\n",
              "      <td>1.000000</td>\n",
              "      <td>3.000000</td>\n",
              "      <td>1.000000</td>\n",
              "    </tr>\n",
              "    <tr>\n",
              "      <th>max</th>\n",
              "      <td>77.000000</td>\n",
              "      <td>1.000000</td>\n",
              "      <td>3.000000</td>\n",
              "      <td>200.000000</td>\n",
              "      <td>564.000000</td>\n",
              "      <td>1.000000</td>\n",
              "      <td>2.000000</td>\n",
              "      <td>202.000000</td>\n",
              "      <td>1.000000</td>\n",
              "      <td>6.200000</td>\n",
              "      <td>2.000000</td>\n",
              "      <td>4.000000</td>\n",
              "      <td>3.000000</td>\n",
              "      <td>1.000000</td>\n",
              "    </tr>\n",
              "  </tbody>\n",
              "</table>\n",
              "</div>"
            ],
            "text/plain": [
              "              age      gender  ...  thalassemia      target\n",
              "count  303.000000  303.000000  ...   303.000000  303.000000\n",
              "mean    54.366337    0.683168  ...     2.313531    0.544554\n",
              "std      9.082101    0.466011  ...     0.612277    0.498835\n",
              "min     29.000000    0.000000  ...     0.000000    0.000000\n",
              "25%     47.500000    0.000000  ...     2.000000    0.000000\n",
              "50%     55.000000    1.000000  ...     2.000000    1.000000\n",
              "75%     61.000000    1.000000  ...     3.000000    1.000000\n",
              "max     77.000000    1.000000  ...     3.000000    1.000000\n",
              "\n",
              "[8 rows x 14 columns]"
            ]
          },
          "metadata": {
            "tags": []
          },
          "execution_count": 8
        }
      ]
    },
    {
      "cell_type": "markdown",
      "metadata": {
        "id": "t-H0eg3qd-0n",
        "colab_type": "text"
      },
      "source": [
        "With the describe method it is seen that all the columns are numeric in nature."
      ]
    },
    {
      "cell_type": "code",
      "metadata": {
        "id": "uqx8ULxmctTs",
        "colab_type": "code",
        "outputId": "dfc6fff5-2bc3-4664-e236-d316449743f6",
        "colab": {
          "base_uri": "https://localhost:8080/",
          "height": 269
        }
      },
      "source": [
        "df.isnull().sum()"
      ],
      "execution_count": 9,
      "outputs": [
        {
          "output_type": "execute_result",
          "data": {
            "text/plain": [
              "age                        0\n",
              "gender                     0\n",
              "chest_pain_type            0\n",
              "blood_pressure             0\n",
              "cholesterol                0\n",
              "blood_sugar                0\n",
              "ECG                        0\n",
              "max_heart_rate_achieved    0\n",
              "exercise_induced_angina    0\n",
              "st_depression              0\n",
              "st_slope                   0\n",
              "num_major_vessels          0\n",
              "thalassemia                0\n",
              "target                     0\n",
              "dtype: int64"
            ]
          },
          "metadata": {
            "tags": []
          },
          "execution_count": 9
        }
      ]
    },
    {
      "cell_type": "markdown",
      "metadata": {
        "id": "XmW4dwD_eFtA",
        "colab_type": "text"
      },
      "source": [
        "No null value is found in the data set which means there is no null value."
      ]
    },
    {
      "cell_type": "code",
      "metadata": {
        "id": "yrAfgXgteKl-",
        "colab_type": "code",
        "outputId": "f16eb7fb-3627-4ca5-d640-f2112b29b14b",
        "colab": {
          "base_uri": "https://localhost:8080/",
          "height": 782
        }
      },
      "source": [
        "\n",
        "fig,ax = plt.subplots(figsize=(16, 10))\n",
        "fig.suptitle(\"Correlation Matrix\", fontsize=20)\n",
        "sns.heatmap(df.corr(), ax=ax, annot=True, linewidths=0.05, fmt= '.2f',cmap=\"magma\")\n",
        "plt.show()"
      ],
      "execution_count": 10,
      "outputs": [
        {
          "output_type": "display_data",
          "data": {
            "image/png": "[encoded data removed]",
            "text/plain": [
              "<Figure size 1152x720 with 2 Axes>"
            ]
          },
          "metadata": {
            "tags": []
          }
        }
      ]
    },
    {
      "cell_type": "markdown",
      "metadata": {
        "id": "23fb9q5Mgqz0",
        "colab_type": "text"
      },
      "source": [
        "The correlation matrix shows the relationship between different features. The negative and positive correlation against the target is shown in this figure."
      ]
    },
    {
      "cell_type": "markdown",
      "metadata": {
        "id": "OF0EdVU8he-M",
        "colab_type": "text"
      },
      "source": [
        "With the help of correlation matrix, we can use visulation on the important columns to check the insights."
      ]
    },
    {
      "cell_type": "code",
      "metadata": {
        "id": "jS5HC2nrhp1G",
        "colab_type": "code",
        "outputId": "f6ecfc58-473d-483c-d24b-7afb8caed162",
        "colab": {
          "base_uri": "https://localhost:8080/",
          "height": 529
        }
      },
      "source": [
        "rcParams['figure.figsize'] = 11.7,8.30\n",
        "sns.barplot(x=df.age.value_counts().index,y=df.age.value_counts().values)\n",
        "plt.xlabel('Age')\n",
        "plt.ylabel('Age Count')\n",
        "plt.title('Age Analysis')\n",
        "plt.show()"
      ],
      "execution_count": 11,
      "outputs": [
        {
          "output_type": "display_data",
          "data": {
            "image/png": "[encoded data removed]",
            "text/plain": [
              "<Figure size 842.4x597.6 with 1 Axes>"
            ]
          },
          "metadata": {
            "tags": []
          }
        }
      ]
    },
    {
      "cell_type": "markdown",
      "metadata": {
        "id": "OCkJPeszCfkz",
        "colab_type": "text"
      },
      "source": [
        "It would be much better if we divide the age from into three catgories: Young Adult, Adult, Senior"
      ]
    },
    {
      "cell_type": "code",
      "metadata": {
        "id": "OFo1VBYokIfU",
        "colab_type": "code",
        "outputId": "3e5aca12-d097-43ff-d1a2-a31d30185cb3",
        "colab": {
          "base_uri": "https://localhost:8080/",
          "height": 304
        }
      },
      "source": [
        "## Lets look into the min and max age group\n",
        "\n",
        "df.describe()"
      ],
      "execution_count": 12,
      "outputs": [
        {
          "output_type": "execute_result",
          "data": {
            "text/html": [
              "<div>\n",
              "<style scoped>\n",
              "    .dataframe tbody tr th:only-of-type {\n",
              "        vertical-align: middle;\n",
              "    }\n",
              "\n",
              "    .dataframe tbody tr th {\n",
              "        vertical-align: top;\n",
              "    }\n",
              "\n",
              "    .dataframe thead th {\n",
              "        text-align: right;\n",
              "    }\n",
              "</style>\n",
              "<table border=\"1\" class=\"dataframe\">\n",
              "  <thead>\n",
              "    <tr style=\"text-align: right;\">\n",
              "      <th></th>\n",
              "      <th>age</th>\n",
              "      <th>gender</th>\n",
              "      <th>chest_pain_type</th>\n",
              "      <th>blood_pressure</th>\n",
              "      <th>cholesterol</th>\n",
              "      <th>blood_sugar</th>\n",
              "      <th>ECG</th>\n",
              "      <th>max_heart_rate_achieved</th>\n",
              "      <th>exercise_induced_angina</th>\n",
              "      <th>st_depression</th>\n",
              "      <th>st_slope</th>\n",
              "      <th>num_major_vessels</th>\n",
              "      <th>thalassemia</th>\n",
              "      <th>target</th>\n",
              "    </tr>\n",
              "  </thead>\n",
              "  <tbody>\n",
              "    <tr>\n",
              "      <th>count</th>\n",
              "      <td>303.000000</td>\n",
              "      <td>303.000000</td>\n",
              "      <td>303.000000</td>\n",
              "      <td>303.000000</td>\n",
              "      <td>303.000000</td>\n",
              "      <td>303.000000</td>\n",
              "      <td>303.000000</td>\n",
              "      <td>303.000000</td>\n",
              "      <td>303.000000</td>\n",
              "      <td>303.000000</td>\n",
              "      <td>303.000000</td>\n",
              "      <td>303.000000</td>\n",
              "      <td>303.000000</td>\n",
              "      <td>303.000000</td>\n",
              "    </tr>\n",
              "    <tr>\n",
              "      <th>mean</th>\n",
              "      <td>54.366337</td>\n",
              "      <td>0.683168</td>\n",
              "      <td>0.966997</td>\n",
              "      <td>131.623762</td>\n",
              "      <td>246.264026</td>\n",
              "      <td>0.148515</td>\n",
              "      <td>0.528053</td>\n",
              "      <td>149.646865</td>\n",
              "      <td>0.326733</td>\n",
              "      <td>1.039604</td>\n",
              "      <td>1.399340</td>\n",
              "      <td>0.729373</td>\n",
              "      <td>2.313531</td>\n",
              "      <td>0.544554</td>\n",
              "    </tr>\n",
              "    <tr>\n",
              "      <th>std</th>\n",
              "      <td>9.082101</td>\n",
              "      <td>0.466011</td>\n",
              "      <td>1.032052</td>\n",
              "      <td>17.538143</td>\n",
              "      <td>51.830751</td>\n",
              "      <td>0.356198</td>\n",
              "      <td>0.525860</td>\n",
              "      <td>22.905161</td>\n",
              "      <td>0.469794</td>\n",
              "      <td>1.161075</td>\n",
              "      <td>0.616226</td>\n",
              "      <td>1.022606</td>\n",
              "      <td>0.612277</td>\n",
              "      <td>0.498835</td>\n",
              "    </tr>\n",
              "    <tr>\n",
              "      <th>min</th>\n",
              "      <td>29.000000</td>\n",
              "      <td>0.000000</td>\n",
              "      <td>0.000000</td>\n",
              "      <td>94.000000</td>\n",
              "      <td>126.000000</td>\n",
              "      <td>0.000000</td>\n",
              "      <td>0.000000</td>\n",
              "      <td>71.000000</td>\n",
              "      <td>0.000000</td>\n",
              "      <td>0.000000</td>\n",
              "      <td>0.000000</td>\n",
              "      <td>0.000000</td>\n",
              "      <td>0.000000</td>\n",
              "      <td>0.000000</td>\n",
              "    </tr>\n",
              "    <tr>\n",
              "      <th>25%</th>\n",
              "      <td>47.500000</td>\n",
              "      <td>0.000000</td>\n",
              "      <td>0.000000</td>\n",
              "      <td>120.000000</td>\n",
              "      <td>211.000000</td>\n",
              "      <td>0.000000</td>\n",
              "      <td>0.000000</td>\n",
              "      <td>133.500000</td>\n",
              "      <td>0.000000</td>\n",
              "      <td>0.000000</td>\n",
              "      <td>1.000000</td>\n",
              "      <td>0.000000</td>\n",
              "      <td>2.000000</td>\n",
              "      <td>0.000000</td>\n",
              "    </tr>\n",
              "    <tr>\n",
              "      <th>50%</th>\n",
              "      <td>55.000000</td>\n",
              "      <td>1.000000</td>\n",
              "      <td>1.000000</td>\n",
              "      <td>130.000000</td>\n",
              "      <td>240.000000</td>\n",
              "      <td>0.000000</td>\n",
              "      <td>1.000000</td>\n",
              "      <td>153.000000</td>\n",
              "      <td>0.000000</td>\n",
              "      <td>0.800000</td>\n",
              "      <td>1.000000</td>\n",
              "      <td>0.000000</td>\n",
              "      <td>2.000000</td>\n",
              "      <td>1.000000</td>\n",
              "    </tr>\n",
              "    <tr>\n",
              "      <th>75%</th>\n",
              "      <td>61.000000</td>\n",
              "      <td>1.000000</td>\n",
              "      <td>2.000000</td>\n",
              "      <td>140.000000</td>\n",
              "      <td>274.500000</td>\n",
              "      <td>0.000000</td>\n",
              "      <td>1.000000</td>\n",
              "      <td>166.000000</td>\n",
              "      <td>1.000000</td>\n",
              "      <td>1.600000</td>\n",
              "      <td>2.000000</td>\n",
              "      <td>1.000000</td>\n",
              "      <td>3.000000</td>\n",
              "      <td>1.000000</td>\n",
              "    </tr>\n",
              "    <tr>\n",
              "      <th>max</th>\n",
              "      <td>77.000000</td>\n",
              "      <td>1.000000</td>\n",
              "      <td>3.000000</td>\n",
              "      <td>200.000000</td>\n",
              "      <td>564.000000</td>\n",
              "      <td>1.000000</td>\n",
              "      <td>2.000000</td>\n",
              "      <td>202.000000</td>\n",
              "      <td>1.000000</td>\n",
              "      <td>6.200000</td>\n",
              "      <td>2.000000</td>\n",
              "      <td>4.000000</td>\n",
              "      <td>3.000000</td>\n",
              "      <td>1.000000</td>\n",
              "    </tr>\n",
              "  </tbody>\n",
              "</table>\n",
              "</div>"
            ],
            "text/plain": [
              "              age      gender  ...  thalassemia      target\n",
              "count  303.000000  303.000000  ...   303.000000  303.000000\n",
              "mean    54.366337    0.683168  ...     2.313531    0.544554\n",
              "std      9.082101    0.466011  ...     0.612277    0.498835\n",
              "min     29.000000    0.000000  ...     0.000000    0.000000\n",
              "25%     47.500000    0.000000  ...     2.000000    0.000000\n",
              "50%     55.000000    1.000000  ...     2.000000    1.000000\n",
              "75%     61.000000    1.000000  ...     3.000000    1.000000\n",
              "max     77.000000    1.000000  ...     3.000000    1.000000\n",
              "\n",
              "[8 rows x 14 columns]"
            ]
          },
          "metadata": {
            "tags": []
          },
          "execution_count": 12
        }
      ]
    },
    {
      "cell_type": "markdown",
      "metadata": {
        "id": "xnck40W5DOKK",
        "colab_type": "text"
      },
      "source": [
        "The min age is 29 and max is 77"
      ]
    },
    {
      "cell_type": "code",
      "metadata": {
        "id": "L248DtJDDKSc",
        "colab_type": "code",
        "outputId": "8821d007-47b1-4b30-f75c-92d42c4b9545",
        "colab": {
          "base_uri": "https://localhost:8080/",
          "height": 67
        }
      },
      "source": [
        "young_adult=df[(df.age>=29)&(df.age<35)]\n",
        "adult=df[(df.age>=35)&(df.age<55)]\n",
        "senior=df[(df.age>55)]\n",
        "print('Young Adult :',len(young_adult))\n",
        "print('Adult :',len(adult))\n",
        "print('Senior :',len(senior))"
      ],
      "execution_count": 13,
      "outputs": [
        {
          "output_type": "stream",
          "text": [
            "Young Adult : 3\n",
            "Adult : 141\n",
            "Senior : 151\n"
          ],
          "name": "stdout"
        }
      ]
    },
    {
      "cell_type": "code",
      "metadata": {
        "id": "qKOZeNVQEO8t",
        "colab_type": "code",
        "outputId": "6c4ac1bc-d223-42ad-c376-b75d4b03a216",
        "colab": {
          "base_uri": "https://localhost:8080/",
          "height": 529
        }
      },
      "source": [
        "sns.barplot(x=['young adult','adult','senior'],y=[len(young_adult),len(adult),len(senior)])\n",
        "plt.xlabel('Range')\n",
        "plt.ylabel('Counts')\n",
        "plt.title('Ages in Dataset')\n",
        "plt.show()"
      ],
      "execution_count": 14,
      "outputs": [
        {
          "output_type": "display_data",
          "data": {
            "image/png": "[encoded data removed]",
            "text/plain": [
              "<Figure size 842.4x597.6 with 1 Axes>"
            ]
          },
          "metadata": {
            "tags": []
          }
        }
      ]
    },
    {
      "cell_type": "markdown",
      "metadata": {
        "id": "LOG1UhYNFSvn",
        "colab_type": "text"
      },
      "source": [
        "Lets look into the heart disease occured in different ages with respect to target."
      ]
    },
    {
      "cell_type": "code",
      "metadata": {
        "id": "rRKTpu3cEkce",
        "colab_type": "code",
        "outputId": "02112eae-d942-4ff9-b9c2-acb151383b6e",
        "colab": {
          "base_uri": "https://localhost:8080/",
          "height": 427
        }
      },
      "source": [
        "pd.crosstab(df.age,df.target).plot(kind=\"bar\",figsize=(30,6))\n",
        "plt.title('Heart Disease for Ages')\n",
        "plt.xlabel('Age')\n",
        "plt.ylabel('Occurance')\n",
        "plt.show()"
      ],
      "execution_count": 15,
      "outputs": [
        {
          "output_type": "display_data",
          "data": {
            "image/png": "[encoded data removed]",
            "text/plain": [
              "<Figure size 2160x432 with 1 Axes>"
            ]
          },
          "metadata": {
            "tags": []
          }
        }
      ]
    },
    {
      "cell_type": "markdown",
      "metadata": {
        "id": "_P5gckcMJLSK",
        "colab_type": "text"
      },
      "source": [
        "The Scatter plot shows that the age range from 42 to 55 have heart diseases. the senior people were found less disease which is gernerally the case becasue the people with heart disease dont often live long."
      ]
    },
    {
      "cell_type": "code",
      "metadata": {
        "id": "XTcs-PdBE3w-",
        "colab_type": "code",
        "outputId": "9d062303-1684-40a2-ae85-df1014c098e6",
        "colab": {
          "base_uri": "https://localhost:8080/",
          "height": 517
        }
      },
      "source": [
        "plt.scatter(x=df.age[df.target==1], y=df.max_heart_rate_achieved\t[(df.target==1)], c=\"red\")\n",
        "plt.scatter(x=df.age[df.target==0], y=df.max_heart_rate_achieved\t[(df.target==0)], c='green')\n",
        "plt.legend([\"Disease\", \"No Disease\"])\n",
        "plt.xlabel(\"Age\")\n",
        "plt.ylabel(\"Heart Rate\")\n",
        "plt.show()"
      ],
      "execution_count": 16,
      "outputs": [
        {
          "output_type": "display_data",
          "data": {
            "image/png": "[encoded data removed]",
            "text/plain": [
              "<Figure size 842.4x597.6 with 1 Axes>"
            ]
          },
          "metadata": {
            "tags": []
          }
        }
      ]
    },
    {
      "cell_type": "markdown",
      "metadata": {
        "id": "zwOt2WpQKAkS",
        "colab_type": "text"
      },
      "source": [
        "Lets look into the gender with heart disease. It is seen that the female have more heart disease compare to male. It also seems that the data contain more male compare to female."
      ]
    },
    {
      "cell_type": "code",
      "metadata": {
        "id": "f-fdoJhWHQ6D",
        "colab_type": "code",
        "outputId": "0a9e27cc-b21f-4e63-8c2e-229a0f680cf9",
        "colab": {
          "base_uri": "https://localhost:8080/",
          "height": 404
        }
      },
      "source": [
        "pd.crosstab(df.gender,df.target).plot(kind=\"bar\",figsize=(15,6),color=['#0000FF','#AA1111' ])\n",
        "plt.title('Heart Disease for Gender')\n",
        "plt.xlabel('Gender (0 = Female, 1 = Male)')\n",
        "plt.xticks(rotation=0)\n",
        "plt.legend([\"No Disease\", \"Have Disease\"])\n",
        "plt.ylabel('Frequency')\n",
        "plt.show()"
      ],
      "execution_count": 17,
      "outputs": [
        {
          "output_type": "display_data",
          "data": {
            "image/png": "[encoded data removed]",
            "text/plain": [
              "<Figure size 1080x432 with 1 Axes>"
            ]
          },
          "metadata": {
            "tags": []
          }
        }
      ]
    },
    {
      "cell_type": "markdown",
      "metadata": {
        "id": "uTMv0marL18a",
        "colab_type": "text"
      },
      "source": [
        "lets look into the Chest pain type because majority of the heart diseases involve severe chest pain.\n"
      ]
    },
    {
      "cell_type": "code",
      "metadata": {
        "id": "GP9-HbwQKFy-",
        "colab_type": "code",
        "outputId": "30857549-8a31-41eb-839b-ba5821fef1e9",
        "colab": {
          "base_uri": "https://localhost:8080/",
          "height": 404
        }
      },
      "source": [
        "pd.crosstab(df.chest_pain_type,df.target).plot(kind=\"bar\",figsize=(15,6),color=['#FFC0CB','#FF5733' ])\n",
        "plt.title('Heart Disease Frequency for Slope')\n",
        "plt.xlabel('The Chest Pain Type ')\n",
        "plt.xticks(rotation = 0)\n",
        "plt.ylabel('Frequency')\n",
        "plt.show()"
      ],
      "execution_count": 18,
      "outputs": [
        {
          "output_type": "display_data",
          "data": {
            "image/png": "[encoded data removed]",
            "text/plain": [
              "<Figure size 1080x432 with 1 Axes>"
            ]
          },
          "metadata": {
            "tags": []
          }
        }
      ]
    },
    {
      "cell_type": "markdown",
      "metadata": {
        "id": "in2FQDkDMMbz",
        "colab_type": "text"
      },
      "source": [
        "The Chest pain type 1 and 2 is more in the patient.Lets look further look into the bloooad pressure and cholesterol level becauase the high cholesterol means high blood pressure which will lead to different types of chestpains."
      ]
    },
    {
      "cell_type": "markdown",
      "metadata": {
        "id": "TUSMmcakNRmx",
        "colab_type": "text"
      },
      "source": [
        "It is clearly seen that the chest type 2 and 1 have more cholestrola and high blood pressure. It can be said that these two factor plays a great role in having a heart disease in humans."
      ]
    },
    {
      "cell_type": "code",
      "metadata": {
        "id": "yXYKT00kK47v",
        "colab_type": "code",
        "outputId": "dc6cc327-3ccb-42ab-e4cf-494eb328a15b",
        "colab": {
          "base_uri": "https://localhost:8080/",
          "height": 369
        }
      },
      "source": [
        "sns.lmplot(x=\"blood_pressure\", y=\"cholesterol\",data=df,hue=\"chest_pain_type\")\n",
        "plt.show()"
      ],
      "execution_count": 20,
      "outputs": [
        {
          "output_type": "display_data",
          "data": {
            "image/png": "[encoded data removed]",
            "text/plain": [
              "<Figure size 448.875x360 with 1 Axes>"
            ]
          },
          "metadata": {
            "tags": []
          }
        }
      ]
    },
    {
      "cell_type": "code",
      "metadata": {
        "id": "H812m-Z1MLaS",
        "colab_type": "code",
        "outputId": "9df4c3f4-7a9d-4dcd-c49f-14e00767e23b",
        "colab": {
          "base_uri": "https://localhost:8080/",
          "height": 683
        }
      },
      "source": [
        "fig, axes = plt.subplots(nrows=2, ncols=4, figsize=(30, 10))\n",
        "fig.suptitle(\"Categorical Variable Distributions\", fontsize=16)\n",
        "\n",
        "x = ['Female','Male']\n",
        "y = df.gender.value_counts(sort = False).values\n",
        "axes[0][0].bar(x,y)\n",
        "axes[0][0].set_title('Gender')\n",
        "\n",
        "x = ['0','1','2','3']\n",
        "y = df.chest_pain_type.value_counts(sort = False).values\n",
        "axes[0][1].bar(x,y)\n",
        "axes[0][1].set_title('Chest Pain')\n",
        "\n",
        "x = ['Healthy','Unhealthy']\n",
        "y = df.blood_sugar.value_counts(sort = False).values\n",
        "axes[0][2].bar(x,y)\n",
        "axes[0][2].set_title(' Blood Sugar')\n",
        "\n",
        "x = ['Regular','Abnormality','Severe']\n",
        "y = df.ECG.value_counts(sort = False).values\n",
        "axes[0][3].bar(x,y)\n",
        "axes[0][3].set_title('Electrocardiographic')\n",
        "\n",
        "\n",
        "x = ['No','Yes']\n",
        "y = df.exercise_induced_angina.value_counts(sort = False).values\n",
        "axes[1][0].bar(x,y)\n",
        "axes[1][0].set_title('Exercise induced Angina')\n",
        "\n",
        "x = ['Downward','Flat','Upward']\n",
        "y = df.st_slope.value_counts(sort = False).values\n",
        "axes[1][1].bar(x,y)\n",
        "axes[1][1].set_title('ST excercise peak')\n",
        "\n",
        "x = ['None','Normal','Fixed Defect','Reversable Defect']\n",
        "y = df.thalassemia.value_counts(sort = False).values\n",
        "axes[1][2].bar(x,y)\n",
        "axes[1][2].set_title('Thalium Stress Test')\n",
        "\n",
        "x = ['No','Yes']\n",
        "y = df.target.value_counts(sort = False).values\n",
        "axes[1][3].bar(x,y)\n",
        "axes[1][3].set_title('Heart Disease')\n",
        "\n",
        "plt.show()\n"
      ],
      "execution_count": 21,
      "outputs": [
        {
          "output_type": "display_data",
          "data": {
            "image/png": "[encoded data removed]",
            "text/plain": [
              "<Figure size 2160x720 with 8 Axes>"
            ]
          },
          "metadata": {
            "tags": []
          }
        }
      ]
    },
    {
      "cell_type": "markdown",
      "metadata": {
        "id": "-UZW-YhEmDkk",
        "colab_type": "text"
      },
      "source": [
        "##Methodology"
      ]
    },
    {
      "cell_type": "markdown",
      "metadata": {
        "id": "bjbcbGu2oJ0S",
        "colab_type": "text"
      },
      "source": [
        "This section contain the information for different algorithms used for pridectiting the cause of heart diseases. Intially, logisitc regression is used to for pridiction. To implement this algorithm, we need to find the depednedt and independent vairable and then speartae them accordingly. Different parameter is set to find the best accuracy for this model.\n",
        "The normilization and z-score method will be used for scaling. We will use these methods for Support vector machine. The KNN algorithm will also be used later on."
      ]
    },
    {
      "cell_type": "code",
      "metadata": {
        "id": "coYVKWsGNQtO",
        "colab_type": "code",
        "outputId": "7880c2b4-60ca-4bd0-e13a-20eec130d246",
        "colab": {
          "base_uri": "https://localhost:8080/",
          "height": 482
        }
      },
      "source": [
        "df.corr()"
      ],
      "execution_count": 22,
      "outputs": [
        {
          "output_type": "execute_result",
          "data": {
            "text/html": [
              "<div>\n",
              "<style scoped>\n",
              "    .dataframe tbody tr th:only-of-type {\n",
              "        vertical-align: middle;\n",
              "    }\n",
              "\n",
              "    .dataframe tbody tr th {\n",
              "        vertical-align: top;\n",
              "    }\n",
              "\n",
              "    .dataframe thead th {\n",
              "        text-align: right;\n",
              "    }\n",
              "</style>\n",
              "<table border=\"1\" class=\"dataframe\">\n",
              "  <thead>\n",
              "    <tr style=\"text-align: right;\">\n",
              "      <th></th>\n",
              "      <th>age</th>\n",
              "      <th>gender</th>\n",
              "      <th>chest_pain_type</th>\n",
              "      <th>blood_pressure</th>\n",
              "      <th>cholesterol</th>\n",
              "      <th>blood_sugar</th>\n",
              "      <th>ECG</th>\n",
              "      <th>max_heart_rate_achieved</th>\n",
              "      <th>exercise_induced_angina</th>\n",
              "      <th>st_depression</th>\n",
              "      <th>st_slope</th>\n",
              "      <th>num_major_vessels</th>\n",
              "      <th>thalassemia</th>\n",
              "      <th>target</th>\n",
              "    </tr>\n",
              "  </thead>\n",
              "  <tbody>\n",
              "    <tr>\n",
              "      <th>age</th>\n",
              "      <td>1.000000</td>\n",
              "      <td>-0.098447</td>\n",
              "      <td>-0.068653</td>\n",
              "      <td>0.279351</td>\n",
              "      <td>0.213678</td>\n",
              "      <td>0.121308</td>\n",
              "      <td>-0.116211</td>\n",
              "      <td>-0.398522</td>\n",
              "      <td>0.096801</td>\n",
              "      <td>0.210013</td>\n",
              "      <td>-0.168814</td>\n",
              "      <td>0.276326</td>\n",
              "      <td>0.068001</td>\n",
              "      <td>-0.225439</td>\n",
              "    </tr>\n",
              "    <tr>\n",
              "      <th>gender</th>\n",
              "      <td>-0.098447</td>\n",
              "      <td>1.000000</td>\n",
              "      <td>-0.049353</td>\n",
              "      <td>-0.056769</td>\n",
              "      <td>-0.197912</td>\n",
              "      <td>0.045032</td>\n",
              "      <td>-0.058196</td>\n",
              "      <td>-0.044020</td>\n",
              "      <td>0.141664</td>\n",
              "      <td>0.096093</td>\n",
              "      <td>-0.030711</td>\n",
              "      <td>0.118261</td>\n",
              "      <td>0.210041</td>\n",
              "      <td>-0.280937</td>\n",
              "    </tr>\n",
              "    <tr>\n",
              "      <th>chest_pain_type</th>\n",
              "      <td>-0.068653</td>\n",
              "      <td>-0.049353</td>\n",
              "      <td>1.000000</td>\n",
              "      <td>0.047608</td>\n",
              "      <td>-0.076904</td>\n",
              "      <td>0.094444</td>\n",
              "      <td>0.044421</td>\n",
              "      <td>0.295762</td>\n",
              "      <td>-0.394280</td>\n",
              "      <td>-0.149230</td>\n",
              "      <td>0.119717</td>\n",
              "      <td>-0.181053</td>\n",
              "      <td>-0.161736</td>\n",
              "      <td>0.433798</td>\n",
              "    </tr>\n",
              "    <tr>\n",
              "      <th>blood_pressure</th>\n",
              "      <td>0.279351</td>\n",
              "      <td>-0.056769</td>\n",
              "      <td>0.047608</td>\n",
              "      <td>1.000000</td>\n",
              "      <td>0.123174</td>\n",
              "      <td>0.177531</td>\n",
              "      <td>-0.114103</td>\n",
              "      <td>-0.046698</td>\n",
              "      <td>0.067616</td>\n",
              "      <td>0.193216</td>\n",
              "      <td>-0.121475</td>\n",
              "      <td>0.101389</td>\n",
              "      <td>0.062210</td>\n",
              "      <td>-0.144931</td>\n",
              "    </tr>\n",
              "    <tr>\n",
              "      <th>cholesterol</th>\n",
              "      <td>0.213678</td>\n",
              "      <td>-0.197912</td>\n",
              "      <td>-0.076904</td>\n",
              "      <td>0.123174</td>\n",
              "      <td>1.000000</td>\n",
              "      <td>0.013294</td>\n",
              "      <td>-0.151040</td>\n",
              "      <td>-0.009940</td>\n",
              "      <td>0.067023</td>\n",
              "      <td>0.053952</td>\n",
              "      <td>-0.004038</td>\n",
              "      <td>0.070511</td>\n",
              "      <td>0.098803</td>\n",
              "      <td>-0.085239</td>\n",
              "    </tr>\n",
              "    <tr>\n",
              "      <th>blood_sugar</th>\n",
              "      <td>0.121308</td>\n",
              "      <td>0.045032</td>\n",
              "      <td>0.094444</td>\n",
              "      <td>0.177531</td>\n",
              "      <td>0.013294</td>\n",
              "      <td>1.000000</td>\n",
              "      <td>-0.084189</td>\n",
              "      <td>-0.008567</td>\n",
              "      <td>0.025665</td>\n",
              "      <td>0.005747</td>\n",
              "      <td>-0.059894</td>\n",
              "      <td>0.137979</td>\n",
              "      <td>-0.032019</td>\n",
              "      <td>-0.028046</td>\n",
              "    </tr>\n",
              "    <tr>\n",
              "      <th>ECG</th>\n",
              "      <td>-0.116211</td>\n",
              "      <td>-0.058196</td>\n",
              "      <td>0.044421</td>\n",
              "      <td>-0.114103</td>\n",
              "      <td>-0.151040</td>\n",
              "      <td>-0.084189</td>\n",
              "      <td>1.000000</td>\n",
              "      <td>0.044123</td>\n",
              "      <td>-0.070733</td>\n",
              "      <td>-0.058770</td>\n",
              "      <td>0.093045</td>\n",
              "      <td>-0.072042</td>\n",
              "      <td>-0.011981</td>\n",
              "      <td>0.137230</td>\n",
              "    </tr>\n",
              "    <tr>\n",
              "      <th>max_heart_rate_achieved</th>\n",
              "      <td>-0.398522</td>\n",
              "      <td>-0.044020</td>\n",
              "      <td>0.295762</td>\n",
              "      <td>-0.046698</td>\n",
              "      <td>-0.009940</td>\n",
              "      <td>-0.008567</td>\n",
              "      <td>0.044123</td>\n",
              "      <td>1.000000</td>\n",
              "      <td>-0.378812</td>\n",
              "      <td>-0.344187</td>\n",
              "      <td>0.386784</td>\n",
              "      <td>-0.213177</td>\n",
              "      <td>-0.096439</td>\n",
              "      <td>0.421741</td>\n",
              "    </tr>\n",
              "    <tr>\n",
              "      <th>exercise_induced_angina</th>\n",
              "      <td>0.096801</td>\n",
              "      <td>0.141664</td>\n",
              "      <td>-0.394280</td>\n",
              "      <td>0.067616</td>\n",
              "      <td>0.067023</td>\n",
              "      <td>0.025665</td>\n",
              "      <td>-0.070733</td>\n",
              "      <td>-0.378812</td>\n",
              "      <td>1.000000</td>\n",
              "      <td>0.288223</td>\n",
              "      <td>-0.257748</td>\n",
              "      <td>0.115739</td>\n",
              "      <td>0.206754</td>\n",
              "      <td>-0.436757</td>\n",
              "    </tr>\n",
              "    <tr>\n",
              "      <th>st_depression</th>\n",
              "      <td>0.210013</td>\n",
              "      <td>0.096093</td>\n",
              "      <td>-0.149230</td>\n",
              "      <td>0.193216</td>\n",
              "      <td>0.053952</td>\n",
              "      <td>0.005747</td>\n",
              "      <td>-0.058770</td>\n",
              "      <td>-0.344187</td>\n",
              "      <td>0.288223</td>\n",
              "      <td>1.000000</td>\n",
              "      <td>-0.577537</td>\n",
              "      <td>0.222682</td>\n",
              "      <td>0.210244</td>\n",
              "      <td>-0.430696</td>\n",
              "    </tr>\n",
              "    <tr>\n",
              "      <th>st_slope</th>\n",
              "      <td>-0.168814</td>\n",
              "      <td>-0.030711</td>\n",
              "      <td>0.119717</td>\n",
              "      <td>-0.121475</td>\n",
              "      <td>-0.004038</td>\n",
              "      <td>-0.059894</td>\n",
              "      <td>0.093045</td>\n",
              "      <td>0.386784</td>\n",
              "      <td>-0.257748</td>\n",
              "      <td>-0.577537</td>\n",
              "      <td>1.000000</td>\n",
              "      <td>-0.080155</td>\n",
              "      <td>-0.104764</td>\n",
              "      <td>0.345877</td>\n",
              "    </tr>\n",
              "    <tr>\n",
              "      <th>num_major_vessels</th>\n",
              "      <td>0.276326</td>\n",
              "      <td>0.118261</td>\n",
              "      <td>-0.181053</td>\n",
              "      <td>0.101389</td>\n",
              "      <td>0.070511</td>\n",
              "      <td>0.137979</td>\n",
              "      <td>-0.072042</td>\n",
              "      <td>-0.213177</td>\n",
              "      <td>0.115739</td>\n",
              "      <td>0.222682</td>\n",
              "      <td>-0.080155</td>\n",
              "      <td>1.000000</td>\n",
              "      <td>0.151832</td>\n",
              "      <td>-0.391724</td>\n",
              "    </tr>\n",
              "    <tr>\n",
              "      <th>thalassemia</th>\n",
              "      <td>0.068001</td>\n",
              "      <td>0.210041</td>\n",
              "      <td>-0.161736</td>\n",
              "      <td>0.062210</td>\n",
              "      <td>0.098803</td>\n",
              "      <td>-0.032019</td>\n",
              "      <td>-0.011981</td>\n",
              "      <td>-0.096439</td>\n",
              "      <td>0.206754</td>\n",
              "      <td>0.210244</td>\n",
              "      <td>-0.104764</td>\n",
              "      <td>0.151832</td>\n",
              "      <td>1.000000</td>\n",
              "      <td>-0.344029</td>\n",
              "    </tr>\n",
              "    <tr>\n",
              "      <th>target</th>\n",
              "      <td>-0.225439</td>\n",
              "      <td>-0.280937</td>\n",
              "      <td>0.433798</td>\n",
              "      <td>-0.144931</td>\n",
              "      <td>-0.085239</td>\n",
              "      <td>-0.028046</td>\n",
              "      <td>0.137230</td>\n",
              "      <td>0.421741</td>\n",
              "      <td>-0.436757</td>\n",
              "      <td>-0.430696</td>\n",
              "      <td>0.345877</td>\n",
              "      <td>-0.391724</td>\n",
              "      <td>-0.344029</td>\n",
              "      <td>1.000000</td>\n",
              "    </tr>\n",
              "  </tbody>\n",
              "</table>\n",
              "</div>"
            ],
            "text/plain": [
              "                              age    gender  ...  thalassemia    target\n",
              "age                      1.000000 -0.098447  ...     0.068001 -0.225439\n",
              "gender                  -0.098447  1.000000  ...     0.210041 -0.280937\n",
              "chest_pain_type         -0.068653 -0.049353  ...    -0.161736  0.433798\n",
              "blood_pressure           0.279351 -0.056769  ...     0.062210 -0.144931\n",
              "cholesterol              0.213678 -0.197912  ...     0.098803 -0.085239\n",
              "blood_sugar              0.121308  0.045032  ...    -0.032019 -0.028046\n",
              "ECG                     -0.116211 -0.058196  ...    -0.011981  0.137230\n",
              "max_heart_rate_achieved -0.398522 -0.044020  ...    -0.096439  0.421741\n",
              "exercise_induced_angina  0.096801  0.141664  ...     0.206754 -0.436757\n",
              "st_depression            0.210013  0.096093  ...     0.210244 -0.430696\n",
              "st_slope                -0.168814 -0.030711  ...    -0.104764  0.345877\n",
              "num_major_vessels        0.276326  0.118261  ...     0.151832 -0.391724\n",
              "thalassemia              0.068001  0.210041  ...     1.000000 -0.344029\n",
              "target                  -0.225439 -0.280937  ...    -0.344029  1.000000\n",
              "\n",
              "[14 rows x 14 columns]"
            ]
          },
          "metadata": {
            "tags": []
          },
          "execution_count": 22
        }
      ]
    },
    {
      "cell_type": "markdown",
      "metadata": {
        "id": "0E61ThKOqC4L",
        "colab_type": "text"
      },
      "source": [
        "The correclation is used to check the relation ship among different columns. Note that if the value is 1 that means the relation is bad.We need to drop the target first because the pridcition will be used on this column. The target is to normilize the min value to 0 and max value to 1.\n",
        "\n"
      ]
    },
    {
      "cell_type": "code",
      "metadata": {
        "id": "1XFPoAIjqS_J",
        "colab_type": "code",
        "colab": {}
      },
      "source": [
        "df_x=df.drop('target',axis=1)\n",
        "df_y=df['target']"
      ],
      "execution_count": 0,
      "outputs": []
    },
    {
      "cell_type": "markdown",
      "metadata": {
        "id": "YAP5a51Escc-",
        "colab_type": "text"
      },
      "source": [
        "The traning data is split to 80% and testing data is split to 20 %"
      ]
    },
    {
      "cell_type": "code",
      "metadata": {
        "id": "SuYjJGXjqRW5",
        "colab_type": "code",
        "colab": {}
      },
      "source": [
        "from sklearn.model_selection import GridSearchCV,train_test_split,cross_val_score\n",
        "x_train,x_test,y_train,y_test=train_test_split(df_x,df_y,test_size=0.2)"
      ],
      "execution_count": 0,
      "outputs": []
    },
    {
      "cell_type": "code",
      "metadata": {
        "id": "WqqPFsn5skhz",
        "colab_type": "code",
        "colab": {}
      },
      "source": [
        "## NORMILZAITION\n",
        "x_train=(x_train-num.min(x_train))/(num.max(x_train)-num.min(x_train)).values\n",
        "x_test=(x_test-num.min(x_test))/(num.max(x_test)-num.min(x_test)).values"
      ],
      "execution_count": 0,
      "outputs": []
    },
    {
      "cell_type": "markdown",
      "metadata": {
        "id": "arocKYYvtdzW",
        "colab_type": "text"
      },
      "source": [
        "Lets first look at KNN model.\n"
      ]
    },
    {
      "cell_type": "markdown",
      "metadata": {
        "id": "NZL-8fQ-vm4h",
        "colab_type": "text"
      },
      "source": [
        "###KNN\n"
      ]
    },
    {
      "cell_type": "markdown",
      "metadata": {
        "id": "x8YRbQn9zB2m",
        "colab_type": "text"
      },
      "source": [
        "The first model which I've used is KNN. This models look at the nearst value when K is defined. The K is set to 3 which gives the best accuracy. The accuracy for KNN is 80.328% which is good for this particular dataset. The data is splited into 80 to 20 which is 80 for training and 20 for testing. Note: The accuracy is depended on the attributes that the algortihm choose so the accuracy will vary."
      ]
    },
    {
      "cell_type": "code",
      "metadata": {
        "id": "A_MO-gFLtozS",
        "colab_type": "code",
        "outputId": "b52f441d-296a-4e87-8784-d576ce1c1d13",
        "colab": {
          "base_uri": "https://localhost:8080/",
          "height": 34
        }
      },
      "source": [
        "from sklearn.neighbors import KNeighborsClassifier\n",
        "k= KNeighborsClassifier(n_neighbors = 3)  # n_neighbors means k\n",
        "k.fit(x_train, y_train)\n",
        "prediction = k.predict(x_test)\n",
        "\n",
        "print(\"{} KNN Score: {:.3f}%\".format(3, k.score(x_test, y_test)*100))"
      ],
      "execution_count": 30,
      "outputs": [
        {
          "output_type": "stream",
          "text": [
            "3 KNN Score: 80.328%\n"
          ],
          "name": "stdout"
        }
      ]
    },
    {
      "cell_type": "markdown",
      "metadata": {
        "id": "kbc24NzP0db9",
        "colab_type": "text"
      },
      "source": [
        "###Support Vector Machine"
      ]
    },
    {
      "cell_type": "markdown",
      "metadata": {
        "id": "ZlVWC159ziIM",
        "colab_type": "text"
      },
      "source": [
        "The second model which I've created is SVM. The SVM is a supervised learning algorithm which is used to solve the regression problem. The accuracy for this model is 78.69%. The reason for using SVM is because it can use both classification and regression."
      ]
    },
    {
      "cell_type": "code",
      "metadata": {
        "id": "2fXC-zeov3aL",
        "colab_type": "code",
        "outputId": "1498c0f0-dbda-4a49-e31b-709f4a6eb19a",
        "colab": {
          "base_uri": "https://localhost:8080/",
          "height": 34
        }
      },
      "source": [
        "from sklearn.svm import SVC\n",
        "\n",
        "svm = SVC(random_state = 1)\n",
        "svm.fit(x_train, y_train)\n",
        "\n",
        "ac = svm.score(x_test,y_test)*100\n",
        "#prediction = k.predict(x_test)\n",
        "\n",
        "#predictions = svm.predict(x_test)\n",
        "print(\"Testing Accuracy SVM Algorithm: {:.2f}%\".format(ac))\n"
      ],
      "execution_count": 31,
      "outputs": [
        {
          "output_type": "stream",
          "text": [
            "Testing Accuracy SVM Algorithm: 78.69%\n"
          ],
          "name": "stdout"
        }
      ]
    },
    {
      "cell_type": "markdown",
      "metadata": {
        "id": "v4cr9lwT1kdc",
        "colab_type": "text"
      },
      "source": [
        "###Logistic Regeression"
      ]
    },
    {
      "cell_type": "markdown",
      "metadata": {
        "id": "PGmh_3Qt1awx",
        "colab_type": "text"
      },
      "source": [
        "The third model is logistic Regeression. The accuracy for this model is 73.77%. The reason for using this model is it explain the relation ship between ordinal, catogorigal and nominal feature which my dataset have to I used this model."
      ]
    },
    {
      "cell_type": "code",
      "metadata": {
        "id": "bInAvnXMzEta",
        "colab_type": "code",
        "outputId": "777a6211-a4d0-4ba2-c921-90c5f0734268",
        "colab": {
          "base_uri": "https://localhost:8080/",
          "height": 34
        }
      },
      "source": [
        "from sklearn.linear_model import LogisticRegression\n",
        "\n",
        "l=LogisticRegression(C=0.1,penalty='l1',random_state=1)\n",
        "l.fit(x_train,y_train)\n",
        "act=l.score(x_test,y_test)*100\n",
        "print(\"Accuracy for Logistic Regression: {:.2f}%\".format(act))"
      ],
      "execution_count": 32,
      "outputs": [
        {
          "output_type": "stream",
          "text": [
            "Accuracy for Logistic Regression: 73.77%\n"
          ],
          "name": "stdout"
        }
      ]
    },
    {
      "cell_type": "markdown",
      "metadata": {
        "id": "2kjmeBdo1jF9",
        "colab_type": "text"
      },
      "source": [
        "###Random Forest"
      ]
    },
    {
      "cell_type": "markdown",
      "metadata": {
        "id": "jQOw2LRv15EE",
        "colab_type": "text"
      },
      "source": [
        "The fourth model is random forest. It is use for classification and regression. The accuracy is 75.41%."
      ]
    },
    {
      "cell_type": "code",
      "metadata": {
        "id": "JXO6wMjP3vqO",
        "colab_type": "code",
        "outputId": "6f958d00-37ad-460b-dcd1-bb46663d853c",
        "colab": {
          "base_uri": "https://localhost:8080/",
          "height": 34
        }
      },
      "source": [
        "from sklearn.ensemble import RandomForestClassifier\n",
        "rf = RandomForestClassifier(n_estimators = 1000, random_state = 1)\n",
        "rf.fit(x_train, y_train)\n",
        "\n",
        "accr = rf.score(x_test,y_test)*100\n",
        "print(\"Random Forest Algorithm Accuracy Score : {:.2f}%\".format(accr))"
      ],
      "execution_count": 33,
      "outputs": [
        {
          "output_type": "stream",
          "text": [
            "Random Forest Algorithm Accuracy Score : 75.41%\n"
          ],
          "name": "stdout"
        }
      ]
    },
    {
      "cell_type": "markdown",
      "metadata": {
        "id": "XqrCTa6MkaHN",
        "colab_type": "text"
      },
      "source": [
        "The accuracy of different models is different. The **KNN** model gives 80% accuracy while **Support Vector Machine** is 78.69% accurate. The **Radnom forest** gives 75.41% accuracy. The **Logistic Regeressuin** is only 73.77% accurate. It can be seen that KNN is the best accurate model but still I will look into the confusion matrix to see which model gives the best pridiction on target value. The next section will be for evaulation of these models.\n"
      ]
    },
    {
      "cell_type": "markdown",
      "metadata": {
        "id": "aWfYmIsdj5Xl",
        "colab_type": "text"
      },
      "source": [
        "#Evaluation"
      ]
    },
    {
      "cell_type": "markdown",
      "metadata": {
        "id": "y3pvu2P_j9Bz",
        "colab_type": "text"
      },
      "source": [
        "This section will contain the accuracy and confusion matrix for the model. The model will be evaluated to check the score for the target value. The confusion matrix is build for different model to check the accuracy for the target values. Later, classification report is build to give the f1 score for target values. Different library are imported to achieve this goal."
      ]
    },
    {
      "cell_type": "code",
      "metadata": {
        "id": "Ya_L9Ejv39xt",
        "colab_type": "code",
        "colab": {}
      },
      "source": [
        "from sklearn.metrics import confusion_matrix\n",
        "y_head_logistic_regerssion = l.predict(x_test)\n",
        "knn = KNeighborsClassifier(n_neighbors = 3)\n",
        "knn.fit(x_train, y_train)\n",
        "y_head_knn = knn.predict(x_test)\n",
        "y_head_svm = svm.predict(x_test)\n",
        "y_head_rf = rf.predict(x_test)"
      ],
      "execution_count": 0,
      "outputs": []
    },
    {
      "cell_type": "code",
      "metadata": {
        "id": "ca-6vJrOombo",
        "colab_type": "code",
        "colab": {}
      },
      "source": [
        "cm_logistic_regression = confusion_matrix(y_test,y_head_logistic_regerssion)\n",
        "cm_knn = confusion_matrix(y_test,y_head_knn)\n",
        "cm_svm = confusion_matrix(y_test,y_head_svm)\n",
        "cm_rf = confusion_matrix(y_test,y_head_rf)"
      ],
      "execution_count": 0,
      "outputs": []
    },
    {
      "cell_type": "markdown",
      "metadata": {
        "id": "nheIKxDj5991",
        "colab_type": "text"
      },
      "source": [
        "The first confusion matrix is for Logistic Regression.The figure is shown below."
      ]
    },
    {
      "cell_type": "code",
      "metadata": {
        "id": "tjDxMDjOprb_",
        "colab_type": "code",
        "outputId": "22724a2c-59eb-4287-d9d2-c139011a95ab",
        "colab": {
          "base_uri": "https://localhost:8080/",
          "height": 624
        }
      },
      "source": [
        "plt.figure(figsize=(15,10))\n",
        "\n",
        "plt.title(\"Confusion Matrixes\",fontsize=20)\n",
        "plt.plot(wspace = 0.4, hspace= 0.4)\n",
        "\n",
        "plt.subplot(1,1,1)\n",
        "plt.title(\"Logistic Regression Confusion Matrix\")\n",
        "sns.heatmap(cm_logistic_regression,annot=True,cmap=\"Blues\",fmt=\"d\",cbar=False, annot_kws={\"size\": 24})"
      ],
      "execution_count": 36,
      "outputs": [
        {
          "output_type": "execute_result",
          "data": {
            "text/plain": [
              "<matplotlib.axes._subplots.AxesSubplot at 0x7fb87ed03438>"
            ]
          },
          "metadata": {
            "tags": []
          },
          "execution_count": 36
        },
        {
          "output_type": "display_data",
          "data": {
            "image/png": "[encoded data removed]",
            "text/plain": [
              "<Figure size 1080x720 with 1 Axes>"
            ]
          },
          "metadata": {
            "tags": []
          }
        }
      ]
    },
    {
      "cell_type": "markdown",
      "metadata": {
        "id": "RFxEioMD6Kri",
        "colab_type": "text"
      },
      "source": [
        "The second confusion matrix is for K-Nearest Neighbour.The figure is shown below."
      ]
    },
    {
      "cell_type": "code",
      "metadata": {
        "id": "m07IHB0ep3v_",
        "colab_type": "code",
        "outputId": "bc5dbd8b-977d-486f-8337-28ec9f41e42e",
        "colab": {
          "base_uri": "https://localhost:8080/",
          "height": 532
        }
      },
      "source": [
        "plt.subplot(1,1,1)\n",
        "plt.title(\"K-Nearest Neighbour Confusion Matrix\")\n",
        "sns.heatmap(cm_knn,annot=True,cmap=\"Blues\",fmt=\"d\",cbar=False, annot_kws={\"size\": 24})"
      ],
      "execution_count": 37,
      "outputs": [
        {
          "output_type": "execute_result",
          "data": {
            "text/plain": [
              "<matplotlib.axes._subplots.AxesSubplot at 0x7fb87ed032b0>"
            ]
          },
          "metadata": {
            "tags": []
          },
          "execution_count": 37
        },
        {
          "output_type": "display_data",
          "data": {
            "image/png": "[encoded data removed]",
            "text/plain": [
              "<Figure size 842.4x597.6 with 1 Axes>"
            ]
          },
          "metadata": {
            "tags": []
          }
        }
      ]
    },
    {
      "cell_type": "markdown",
      "metadata": {
        "id": "Lmg9JCKR6QxH",
        "colab_type": "text"
      },
      "source": [
        "The Third confusion matrix is for Support Vector Machine.The figure is shown below."
      ]
    },
    {
      "cell_type": "code",
      "metadata": {
        "id": "S1NvObp8rI2L",
        "colab_type": "code",
        "outputId": "f0a9aa91-c2b3-4194-a55d-f780c6f5d17a",
        "colab": {
          "base_uri": "https://localhost:8080/",
          "height": 532
        }
      },
      "source": [
        "plt.subplot(1,1,1)\n",
        "plt.title(\"Support Vector Machine Confusion Matrix\")\n",
        "sns.heatmap(cm_svm,annot=True,cmap=\"Blues\",fmt=\"d\",cbar=False, annot_kws={\"size\": 24})"
      ],
      "execution_count": 38,
      "outputs": [
        {
          "output_type": "execute_result",
          "data": {
            "text/plain": [
              "<matplotlib.axes._subplots.AxesSubplot at 0x7fb87ece1da0>"
            ]
          },
          "metadata": {
            "tags": []
          },
          "execution_count": 38
        },
        {
          "output_type": "display_data",
          "data": {
            "image/png": "[encoded data removed]",
            "text/plain": [
              "<Figure size 842.4x597.6 with 1 Axes>"
            ]
          },
          "metadata": {
            "tags": []
          }
        }
      ]
    },
    {
      "cell_type": "markdown",
      "metadata": {
        "id": "U3__oTWG6U1n",
        "colab_type": "text"
      },
      "source": [
        "The Fourth confusion matrix is for Random Forest.The figure is shown below."
      ]
    },
    {
      "cell_type": "code",
      "metadata": {
        "id": "IxmdTkOFrdIV",
        "colab_type": "code",
        "outputId": "7e0b2527-1ebd-4cc4-a8e2-a9e60a3c5e62",
        "colab": {
          "base_uri": "https://localhost:8080/",
          "height": 532
        }
      },
      "source": [
        "plt.subplot(1,1,1)\n",
        "plt.title(\"Random Forest\")\n",
        "sns.heatmap(cm_rf,annot=True,cmap=\"Blues\",fmt=\"d\",cbar=False, annot_kws={\"size\": 24})"
      ],
      "execution_count": 39,
      "outputs": [
        {
          "output_type": "execute_result",
          "data": {
            "text/plain": [
              "<matplotlib.axes._subplots.AxesSubplot at 0x7fb87ec9d4e0>"
            ]
          },
          "metadata": {
            "tags": []
          },
          "execution_count": 39
        },
        {
          "output_type": "display_data",
          "data": {
            "image/png": "[encoded data removed]",
            "text/plain": [
              "<Figure size 842.4x597.6 with 1 Axes>"
            ]
          },
          "metadata": {
            "tags": []
          }
        }
      ]
    },
    {
      "cell_type": "markdown",
      "metadata": {
        "id": "cHJfZyPB6fFd",
        "colab_type": "text"
      },
      "source": [
        "After compare each model the KNN model is chosen for further analysis. The sole reason is the accuracy rate for each target value in KNN is pridicted correctly and the error rate is low for this particular model. The classification report will be generated for KNN in the below step."
      ]
    },
    {
      "cell_type": "code",
      "metadata": {
        "id": "XW8_rRA9rl-W",
        "colab_type": "code",
        "outputId": "f9c23040-8cc0-4caa-be13-498229eba091",
        "colab": {
          "base_uri": "https://localhost:8080/",
          "height": 168
        }
      },
      "source": [
        "##KNN Classification Report\n",
        "from sklearn.metrics import classification_report\n",
        "print(classification_report(y_test,prediction))"
      ],
      "execution_count": 40,
      "outputs": [
        {
          "output_type": "stream",
          "text": [
            "              precision    recall  f1-score   support\n",
            "\n",
            "           0       0.71      0.83      0.77        24\n",
            "           1       0.88      0.78      0.83        37\n",
            "\n",
            "    accuracy                           0.80        61\n",
            "   macro avg       0.80      0.81      0.80        61\n",
            "weighted avg       0.81      0.80      0.81        61\n",
            "\n"
          ],
          "name": "stdout"
        }
      ]
    },
    {
      "cell_type": "markdown",
      "metadata": {
        "id": "V72W07XX69k5",
        "colab_type": "text"
      },
      "source": [
        "#Conclusion\n",
        "The heart disease is one of the common issue in human being which leads to death. The algorithm used in this report will help in pridicting wheather a patient have a heart disease or not. It is seen that the high calastoral leads to high blood pressure which results in heart diseases. Also, Older people has less chances of getting a heart disease. Also, if the sugar level is high the chances of having a heart disease is high as well. It is also found that the female have more heart disease compare to male. Different chest pain type have different impact on the heart. Type 1 and Type 2 has more heart disease. The algorithm pridicted great accuracy for this particular dataset. In the future, more algorithm can be used to see the change in the accuracy level. Also, different factors such as thalasemia or depression can also be dig further down to see the trend. Further, adjustment of parameter can also be looked into for the future. In a nutshell, serval factors play into the cause of having a heart disease."
      ]
    },
    {
      "cell_type": "markdown",
      "metadata": {
        "id": "7Tw-vXWMxW5-",
        "colab_type": "text"
      },
      "source": [
        "#Reference"
      ]
    },
    {
      "cell_type": "markdown",
      "metadata": {
        "id": "i-QMzHM0xaAI",
        "colab_type": "text"
      },
      "source": [
        "\n",
        "\n",
        "1.   \n",
        "https://www.kaggle.com/kralmachine/analyzing-the-heart-disease/data \n",
        "\n",
        "\n",
        "2.   https://www.kaggle.com/cdabakoglu/heart-disease-classifications-machine-learning/notebook \n",
        "\n",
        "\n",
        "3.   https://www.kaggle.com/mgancita/what-causes-heart-disease \n",
        "\n",
        "4.   https://www.kaggle.com/tentotheminus9/what-causes-heart-disease-explaining-the-model/notebook\n",
        "\n",
        "\n",
        "5.   https://www.ahajournals.org/doi/10.1161/CIR.0000000000000659\n",
        "\n",
        "\n",
        "\n",
        "\n",
        "\n",
        "\n",
        "\n"
      ]
    }
  ]
}