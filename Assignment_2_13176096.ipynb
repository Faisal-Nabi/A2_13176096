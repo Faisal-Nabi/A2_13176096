{
  "nbformat": 4,
  "nbformat_minor": 0,
  "metadata": {
    "colab": {
      "name": "Assignment_2_13176096.ipynb",
      "provenance": [],
      "collapsed_sections": [],
      "include_colab_link": true
    },
    "kernelspec": {
      "name": "python3",
      "display_name": "Python 3"
    }
  },
  "cells": [
    {
      "cell_type": "markdown",
      "metadata": {
        "id": "view-in-github",
        "colab_type": "text"
      },
      "source": [
        "<a href=\"https://colab.research.google.com/github/Faisal-Nabi/A2_13176096/blob/master/Assignment_2_13176096.ipynb\" target=\"_parent\"><img src=\"https://colab.research.google.com/assets/colab-badge.svg\" alt=\"Open In Colab\"/></a>"
      ]
    },
    {
      "cell_type": "markdown",
      "metadata": {
        "id": "3OSzzMYYQZqo",
        "colab_type": "text"
      },
      "source": [
        "#Assignment 2\n"
      ]
    },
    {
      "cell_type": "markdown",
      "metadata": {
        "id": "ZEbojV6R8O5F",
        "colab_type": "text"
      },
      "source": [
        "\n",
        "\n",
        "## Name:      Faisal Nabi\n",
        "## Reg: 13176096\n",
        "## Github Link: https://github.com/Faisal-Nabi/A2_13176096/blob/master/Assignment_2_13176096.ipynb\n",
        "\n",
        "##NOTE: The accuracy for each model depends on the operating machine. The accuracy noted in this report is based on the most accurate values. It changes on execution."
      ]
    },
    {
      "cell_type": "markdown",
      "metadata": {
        "id": "8EG3B-HGQixm",
        "colab_type": "text"
      },
      "source": [
        "##Introduction"
      ]
    },
    {
      "cell_type": "markdown",
      "metadata": {
        "id": "AUfp9ltZv2SE",
        "colab_type": "text"
      },
      "source": [
        "The heart disease is the common cause of death among people living across the global. According to the **Heart Disease and Stroke Statistics 2019**, every 4 out of 10 death is of death disease in United States. Different factors such as cholesterol, high blood pressure and sugar can all lead up to heart diseases which can cause death. The sole purpose of predicting the cause of the heart disease is to get better understanding of the factors which contributes into the different diseases. There are 3 types of heart diseases; Coronary Artery Disease (acronym CAD), Congestive Heart Failure (CHF), Bad Heart Rhythms. All these have different risk factors.\n",
        "\n",
        "The goal is to find weather the patient have heart disease. The algorithms will help in analysing the risk factors behind the diseases which will give doctors or patients the better idea of which risk factor to look into for removing the disease. Also, knowing the factors beforehand will save patient life and that’s the main purpose of building the best model.The algorithm will answer the question \"Does the patient have the heart diease?\" The answer will be in 0 and 1 which is 0 for no disease and 1 for disease.\n",
        "\n",
        "In this report, different algorithm are used to find the best model for “Cause of disease in human being” dataset. The dataset is taken kaggal from cleveland database.Firstly EDA is performed to look into the relationship among different heart disease with different risk factors leading up to it. After EDA, the machine learning models were build and the accuracy was detected based on the inputs. The comparsion is done with different machine learning algorithm.The model which will give best accuracy will be choosen. Later on, the classification report was build to check the f-1 score for the model.\n"
      ]
    },
    {
      "cell_type": "markdown",
      "metadata": {
        "id": "URYj3LEPwE_i",
        "colab_type": "text"
      },
      "source": [
        "##Input"
      ]
    },
    {
      "cell_type": "markdown",
      "metadata": {
        "id": "6hFs1YZJwJBz",
        "colab_type": "text"
      },
      "source": [
        "There are 13 inputs: age, sex, cp, trestbps, chol, fbs, restecg, thalach, exang, oldpeak, slope, ca, thal\n"
      ]
    },
    {
      "cell_type": "markdown",
      "metadata": {
        "id": "UR7KhUTxwotZ",
        "colab_type": "text"
      },
      "source": [
        "##Output"
      ]
    },
    {
      "cell_type": "markdown",
      "metadata": {
        "id": "jqbRfLqMwq8l",
        "colab_type": "text"
      },
      "source": [
        "The output is the target value which is 0 and 1. The 0 means that a patient don’t have a heart disease and 1 means that patient have a heart disease. "
      ]
    },
    {
      "cell_type": "markdown",
      "metadata": {
        "id": "HWb0zZIiRhi_",
        "colab_type": "text"
      },
      "source": [
        "## Exploration\n"
      ]
    },
    {
      "cell_type": "markdown",
      "metadata": {
        "id": "0paWgAUdSPcg",
        "colab_type": "text"
      },
      "source": [
        "The dataset is clean and tidy but the column name are not easy to understand so the first challenge is to understand the column and name them accordingly. Later, the second challenge is to find the correlation between different columns. The thrid challenge is to use the important feature to pridcit the target value and lastly to find the best machine algorithm to answer the problem. All of these challenges will be solve in this step.\n",
        "\n",
        "The first step in data analysis is data exploration. I will install the library first to make sure that the data is imported and later the visulaization and algorithm will be used."
      ]
    },
    {
      "cell_type": "code",
      "metadata": {
        "id": "refDbz6EadQJ",
        "colab_type": "code",
        "colab": {}
      },
      "source": [
        "import pandas as pan\n",
        "import numpy as num\n",
        "import seaborn as sns\n",
        "import matplotlib.pyplot as plot\n",
        "from matplotlib import rcParams\n",
        "\n",
        "\n",
        "import warnings as warn\n",
        "warn.filterwarnings('ignore')"
      ],
      "execution_count": 0,
      "outputs": []
    },
    {
      "cell_type": "code",
      "metadata": {
        "id": "HVVnyOLLatVP",
        "colab_type": "code",
        "colab": {}
      },
      "source": [
        "\n",
        "import io\n",
        "import requests\n",
        "url=\"https://raw.githubusercontent.com/Faisal-Nabi/A2_13176096/master/heart.csv\"\n",
        "s=requests.get(url).content\n",
        "read=pan.read_csv(io.StringIO(s.decode('utf-8')))"
      ],
      "execution_count": 0,
      "outputs": []
    },
    {
      "cell_type": "code",
      "metadata": {
        "id": "bymPelKwbHFr",
        "colab_type": "code",
        "outputId": "a5ce6823-2061-4d0e-9ebb-e7e388868a2a",
        "colab": {
          "base_uri": "https://localhost:8080/",
          "height": 191
        }
      },
      "source": [
        "read.head()"
      ],
      "execution_count": 98,
      "outputs": [
        {
          "output_type": "execute_result",
          "data": {
            "text/html": [
              "<div>\n",
              "<style scoped>\n",
              "    .dataframe tbody tr th:only-of-type {\n",
              "        vertical-align: middle;\n",
              "    }\n",
              "\n",
              "    .dataframe tbody tr th {\n",
              "        vertical-align: top;\n",
              "    }\n",
              "\n",
              "    .dataframe thead th {\n",
              "        text-align: right;\n",
              "    }\n",
              "</style>\n",
              "<table border=\"1\" class=\"dataframe\">\n",
              "  <thead>\n",
              "    <tr style=\"text-align: right;\">\n",
              "      <th></th>\n",
              "      <th>age</th>\n",
              "      <th>sex</th>\n",
              "      <th>cp</th>\n",
              "      <th>trestbps</th>\n",
              "      <th>chol</th>\n",
              "      <th>fbs</th>\n",
              "      <th>restecg</th>\n",
              "      <th>thalach</th>\n",
              "      <th>exang</th>\n",
              "      <th>oldpeak</th>\n",
              "      <th>slope</th>\n",
              "      <th>ca</th>\n",
              "      <th>thal</th>\n",
              "      <th>target</th>\n",
              "    </tr>\n",
              "  </thead>\n",
              "  <tbody>\n",
              "    <tr>\n",
              "      <th>0</th>\n",
              "      <td>63</td>\n",
              "      <td>1</td>\n",
              "      <td>3</td>\n",
              "      <td>145</td>\n",
              "      <td>233</td>\n",
              "      <td>1</td>\n",
              "      <td>0</td>\n",
              "      <td>150</td>\n",
              "      <td>0</td>\n",
              "      <td>2.3</td>\n",
              "      <td>0</td>\n",
              "      <td>0</td>\n",
              "      <td>1</td>\n",
              "      <td>1</td>\n",
              "    </tr>\n",
              "    <tr>\n",
              "      <th>1</th>\n",
              "      <td>37</td>\n",
              "      <td>1</td>\n",
              "      <td>2</td>\n",
              "      <td>130</td>\n",
              "      <td>250</td>\n",
              "      <td>0</td>\n",
              "      <td>1</td>\n",
              "      <td>187</td>\n",
              "      <td>0</td>\n",
              "      <td>3.5</td>\n",
              "      <td>0</td>\n",
              "      <td>0</td>\n",
              "      <td>2</td>\n",
              "      <td>1</td>\n",
              "    </tr>\n",
              "    <tr>\n",
              "      <th>2</th>\n",
              "      <td>41</td>\n",
              "      <td>0</td>\n",
              "      <td>1</td>\n",
              "      <td>130</td>\n",
              "      <td>204</td>\n",
              "      <td>0</td>\n",
              "      <td>0</td>\n",
              "      <td>172</td>\n",
              "      <td>0</td>\n",
              "      <td>1.4</td>\n",
              "      <td>2</td>\n",
              "      <td>0</td>\n",
              "      <td>2</td>\n",
              "      <td>1</td>\n",
              "    </tr>\n",
              "    <tr>\n",
              "      <th>3</th>\n",
              "      <td>56</td>\n",
              "      <td>1</td>\n",
              "      <td>1</td>\n",
              "      <td>120</td>\n",
              "      <td>236</td>\n",
              "      <td>0</td>\n",
              "      <td>1</td>\n",
              "      <td>178</td>\n",
              "      <td>0</td>\n",
              "      <td>0.8</td>\n",
              "      <td>2</td>\n",
              "      <td>0</td>\n",
              "      <td>2</td>\n",
              "      <td>1</td>\n",
              "    </tr>\n",
              "    <tr>\n",
              "      <th>4</th>\n",
              "      <td>57</td>\n",
              "      <td>0</td>\n",
              "      <td>0</td>\n",
              "      <td>120</td>\n",
              "      <td>354</td>\n",
              "      <td>0</td>\n",
              "      <td>1</td>\n",
              "      <td>163</td>\n",
              "      <td>1</td>\n",
              "      <td>0.6</td>\n",
              "      <td>2</td>\n",
              "      <td>0</td>\n",
              "      <td>2</td>\n",
              "      <td>1</td>\n",
              "    </tr>\n",
              "  </tbody>\n",
              "</table>\n",
              "</div>"
            ],
            "text/plain": [
              "   age  sex  cp  trestbps  chol  fbs  ...  exang  oldpeak  slope  ca  thal  target\n",
              "0   63    1   3       145   233    1  ...      0      2.3      0   0     1       1\n",
              "1   37    1   2       130   250    0  ...      0      3.5      0   0     2       1\n",
              "2   41    0   1       130   204    0  ...      0      1.4      2   0     2       1\n",
              "3   56    1   1       120   236    0  ...      0      0.8      2   0     2       1\n",
              "4   57    0   0       120   354    0  ...      1      0.6      2   0     2       1\n",
              "\n",
              "[5 rows x 14 columns]"
            ]
          },
          "metadata": {
            "tags": []
          },
          "execution_count": 98
        }
      ]
    },
    {
      "cell_type": "markdown",
      "metadata": {
        "id": "G1FA5AIkbLMr",
        "colab_type": "text"
      },
      "source": [
        "The data shows different columns. The name of the columns doesn't make any sense. Let rename the columns to make it more readable.\n",
        "\n"
      ]
    },
    {
      "cell_type": "code",
      "metadata": {
        "id": "vuQ9W1zvbQob",
        "colab_type": "code",
        "colab": {}
      },
      "source": [
        "read.columns = ['age', 'gender', 'type_of_chest_pain', 'blood_pressure', 'cholesterol', 'level_of_sugar_in_blood', 'electrocardiogram', 'maximum_rate_of_heart_achieved',\n",
        "       'exercise_induced_heart_attack', 'standerd_depression', 'standerd_slope', 'num_of_cardiac_vessels', 'thalassemia', 'target']\n"
      ],
      "execution_count": 0,
      "outputs": []
    },
    {
      "cell_type": "code",
      "metadata": {
        "id": "gmItZKX_cdN8",
        "colab_type": "code",
        "outputId": "473b6d5a-65b4-4c21-89c6-a98cc4a4a4cc",
        "colab": {
          "base_uri": "https://localhost:8080/",
          "height": 211
        }
      },
      "source": [
        "read.head()"
      ],
      "execution_count": 100,
      "outputs": [
        {
          "output_type": "execute_result",
          "data": {
            "text/html": [
              "<div>\n",
              "<style scoped>\n",
              "    .dataframe tbody tr th:only-of-type {\n",
              "        vertical-align: middle;\n",
              "    }\n",
              "\n",
              "    .dataframe tbody tr th {\n",
              "        vertical-align: top;\n",
              "    }\n",
              "\n",
              "    .dataframe thead th {\n",
              "        text-align: right;\n",
              "    }\n",
              "</style>\n",
              "<table border=\"1\" class=\"dataframe\">\n",
              "  <thead>\n",
              "    <tr style=\"text-align: right;\">\n",
              "      <th></th>\n",
              "      <th>age</th>\n",
              "      <th>gender</th>\n",
              "      <th>type_of_chest_pain</th>\n",
              "      <th>blood_pressure</th>\n",
              "      <th>cholesterol</th>\n",
              "      <th>level_of_sugar_in_blood</th>\n",
              "      <th>electrocardiogram</th>\n",
              "      <th>maximum_rate_of_heart_achieved</th>\n",
              "      <th>exercise_induced_heart_attack</th>\n",
              "      <th>standerd_depression</th>\n",
              "      <th>standerd_slope</th>\n",
              "      <th>num_of_cardiac_vessels</th>\n",
              "      <th>thalassemia</th>\n",
              "      <th>target</th>\n",
              "    </tr>\n",
              "  </thead>\n",
              "  <tbody>\n",
              "    <tr>\n",
              "      <th>0</th>\n",
              "      <td>63</td>\n",
              "      <td>1</td>\n",
              "      <td>3</td>\n",
              "      <td>145</td>\n",
              "      <td>233</td>\n",
              "      <td>1</td>\n",
              "      <td>0</td>\n",
              "      <td>150</td>\n",
              "      <td>0</td>\n",
              "      <td>2.3</td>\n",
              "      <td>0</td>\n",
              "      <td>0</td>\n",
              "      <td>1</td>\n",
              "      <td>1</td>\n",
              "    </tr>\n",
              "    <tr>\n",
              "      <th>1</th>\n",
              "      <td>37</td>\n",
              "      <td>1</td>\n",
              "      <td>2</td>\n",
              "      <td>130</td>\n",
              "      <td>250</td>\n",
              "      <td>0</td>\n",
              "      <td>1</td>\n",
              "      <td>187</td>\n",
              "      <td>0</td>\n",
              "      <td>3.5</td>\n",
              "      <td>0</td>\n",
              "      <td>0</td>\n",
              "      <td>2</td>\n",
              "      <td>1</td>\n",
              "    </tr>\n",
              "    <tr>\n",
              "      <th>2</th>\n",
              "      <td>41</td>\n",
              "      <td>0</td>\n",
              "      <td>1</td>\n",
              "      <td>130</td>\n",
              "      <td>204</td>\n",
              "      <td>0</td>\n",
              "      <td>0</td>\n",
              "      <td>172</td>\n",
              "      <td>0</td>\n",
              "      <td>1.4</td>\n",
              "      <td>2</td>\n",
              "      <td>0</td>\n",
              "      <td>2</td>\n",
              "      <td>1</td>\n",
              "    </tr>\n",
              "    <tr>\n",
              "      <th>3</th>\n",
              "      <td>56</td>\n",
              "      <td>1</td>\n",
              "      <td>1</td>\n",
              "      <td>120</td>\n",
              "      <td>236</td>\n",
              "      <td>0</td>\n",
              "      <td>1</td>\n",
              "      <td>178</td>\n",
              "      <td>0</td>\n",
              "      <td>0.8</td>\n",
              "      <td>2</td>\n",
              "      <td>0</td>\n",
              "      <td>2</td>\n",
              "      <td>1</td>\n",
              "    </tr>\n",
              "    <tr>\n",
              "      <th>4</th>\n",
              "      <td>57</td>\n",
              "      <td>0</td>\n",
              "      <td>0</td>\n",
              "      <td>120</td>\n",
              "      <td>354</td>\n",
              "      <td>0</td>\n",
              "      <td>1</td>\n",
              "      <td>163</td>\n",
              "      <td>1</td>\n",
              "      <td>0.6</td>\n",
              "      <td>2</td>\n",
              "      <td>0</td>\n",
              "      <td>2</td>\n",
              "      <td>1</td>\n",
              "    </tr>\n",
              "  </tbody>\n",
              "</table>\n",
              "</div>"
            ],
            "text/plain": [
              "   age  gender  type_of_chest_pain  ...  num_of_cardiac_vessels  thalassemia  target\n",
              "0   63       1                   3  ...                       0            1       1\n",
              "1   37       1                   2  ...                       0            2       1\n",
              "2   41       0                   1  ...                       0            2       1\n",
              "3   56       1                   1  ...                       0            2       1\n",
              "4   57       0                   0  ...                       0            2       1\n",
              "\n",
              "[5 rows x 14 columns]"
            ]
          },
          "metadata": {
            "tags": []
          },
          "execution_count": 100
        }
      ]
    },
    {
      "cell_type": "code",
      "metadata": {
        "id": "zU9eu8mCceKM",
        "colab_type": "code",
        "outputId": "b62e202b-77cd-4619-c43a-64ae4d8c4f7f",
        "colab": {
          "base_uri": "https://localhost:8080/",
          "height": 33
        }
      },
      "source": [
        "## Lets check the total number of columns\n",
        "read.shape"
      ],
      "execution_count": 101,
      "outputs": [
        {
          "output_type": "execute_result",
          "data": {
            "text/plain": [
              "(303, 14)"
            ]
          },
          "metadata": {
            "tags": []
          },
          "execution_count": 101
        }
      ]
    },
    {
      "cell_type": "code",
      "metadata": {
        "id": "zohLyEV8chTs",
        "colab_type": "code",
        "outputId": "f68d44d1-78ab-4ca2-91a2-58009148b3f2",
        "colab": {
          "base_uri": "https://localhost:8080/",
          "height": 326
        }
      },
      "source": [
        "read.info()"
      ],
      "execution_count": 102,
      "outputs": [
        {
          "output_type": "stream",
          "text": [
            "<class 'pandas.core.frame.DataFrame'>\n",
            "RangeIndex: 303 entries, 0 to 302\n",
            "Data columns (total 14 columns):\n",
            "age                               303 non-null int64\n",
            "gender                            303 non-null int64\n",
            "type_of_chest_pain                303 non-null int64\n",
            "blood_pressure                    303 non-null int64\n",
            "cholesterol                       303 non-null int64\n",
            "level_of_sugar_in_blood           303 non-null int64\n",
            "electrocardiogram                 303 non-null int64\n",
            "maximum_rate_of_heart_achieved    303 non-null int64\n",
            "exercise_induced_heart_attack     303 non-null int64\n",
            "standerd_depression               303 non-null float64\n",
            "standerd_slope                    303 non-null int64\n",
            "num_of_cardiac_vessels            303 non-null int64\n",
            "thalassemia                       303 non-null int64\n",
            "target                            303 non-null int64\n",
            "dtypes: float64(1), int64(13)\n",
            "memory usage: 33.2 KB\n"
          ],
          "name": "stdout"
        }
      ]
    },
    {
      "cell_type": "code",
      "metadata": {
        "id": "qV7Lw2Tocmms",
        "colab_type": "code",
        "outputId": "2959355c-0cc3-4c86-98de-0292fe4a34f9",
        "colab": {
          "base_uri": "https://localhost:8080/",
          "height": 297
        }
      },
      "source": [
        "read.describe()"
      ],
      "execution_count": 103,
      "outputs": [
        {
          "output_type": "execute_result",
          "data": {
            "text/html": [
              "<div>\n",
              "<style scoped>\n",
              "    .dataframe tbody tr th:only-of-type {\n",
              "        vertical-align: middle;\n",
              "    }\n",
              "\n",
              "    .dataframe tbody tr th {\n",
              "        vertical-align: top;\n",
              "    }\n",
              "\n",
              "    .dataframe thead th {\n",
              "        text-align: right;\n",
              "    }\n",
              "</style>\n",
              "<table border=\"1\" class=\"dataframe\">\n",
              "  <thead>\n",
              "    <tr style=\"text-align: right;\">\n",
              "      <th></th>\n",
              "      <th>age</th>\n",
              "      <th>gender</th>\n",
              "      <th>type_of_chest_pain</th>\n",
              "      <th>blood_pressure</th>\n",
              "      <th>cholesterol</th>\n",
              "      <th>level_of_sugar_in_blood</th>\n",
              "      <th>electrocardiogram</th>\n",
              "      <th>maximum_rate_of_heart_achieved</th>\n",
              "      <th>exercise_induced_heart_attack</th>\n",
              "      <th>standerd_depression</th>\n",
              "      <th>standerd_slope</th>\n",
              "      <th>num_of_cardiac_vessels</th>\n",
              "      <th>thalassemia</th>\n",
              "      <th>target</th>\n",
              "    </tr>\n",
              "  </thead>\n",
              "  <tbody>\n",
              "    <tr>\n",
              "      <th>count</th>\n",
              "      <td>303.000000</td>\n",
              "      <td>303.000000</td>\n",
              "      <td>303.000000</td>\n",
              "      <td>303.000000</td>\n",
              "      <td>303.000000</td>\n",
              "      <td>303.000000</td>\n",
              "      <td>303.000000</td>\n",
              "      <td>303.000000</td>\n",
              "      <td>303.000000</td>\n",
              "      <td>303.000000</td>\n",
              "      <td>303.000000</td>\n",
              "      <td>303.000000</td>\n",
              "      <td>303.000000</td>\n",
              "      <td>303.000000</td>\n",
              "    </tr>\n",
              "    <tr>\n",
              "      <th>mean</th>\n",
              "      <td>54.366337</td>\n",
              "      <td>0.683168</td>\n",
              "      <td>0.966997</td>\n",
              "      <td>131.623762</td>\n",
              "      <td>246.264026</td>\n",
              "      <td>0.148515</td>\n",
              "      <td>0.528053</td>\n",
              "      <td>149.646865</td>\n",
              "      <td>0.326733</td>\n",
              "      <td>1.039604</td>\n",
              "      <td>1.399340</td>\n",
              "      <td>0.729373</td>\n",
              "      <td>2.313531</td>\n",
              "      <td>0.544554</td>\n",
              "    </tr>\n",
              "    <tr>\n",
              "      <th>std</th>\n",
              "      <td>9.082101</td>\n",
              "      <td>0.466011</td>\n",
              "      <td>1.032052</td>\n",
              "      <td>17.538143</td>\n",
              "      <td>51.830751</td>\n",
              "      <td>0.356198</td>\n",
              "      <td>0.525860</td>\n",
              "      <td>22.905161</td>\n",
              "      <td>0.469794</td>\n",
              "      <td>1.161075</td>\n",
              "      <td>0.616226</td>\n",
              "      <td>1.022606</td>\n",
              "      <td>0.612277</td>\n",
              "      <td>0.498835</td>\n",
              "    </tr>\n",
              "    <tr>\n",
              "      <th>min</th>\n",
              "      <td>29.000000</td>\n",
              "      <td>0.000000</td>\n",
              "      <td>0.000000</td>\n",
              "      <td>94.000000</td>\n",
              "      <td>126.000000</td>\n",
              "      <td>0.000000</td>\n",
              "      <td>0.000000</td>\n",
              "      <td>71.000000</td>\n",
              "      <td>0.000000</td>\n",
              "      <td>0.000000</td>\n",
              "      <td>0.000000</td>\n",
              "      <td>0.000000</td>\n",
              "      <td>0.000000</td>\n",
              "      <td>0.000000</td>\n",
              "    </tr>\n",
              "    <tr>\n",
              "      <th>25%</th>\n",
              "      <td>47.500000</td>\n",
              "      <td>0.000000</td>\n",
              "      <td>0.000000</td>\n",
              "      <td>120.000000</td>\n",
              "      <td>211.000000</td>\n",
              "      <td>0.000000</td>\n",
              "      <td>0.000000</td>\n",
              "      <td>133.500000</td>\n",
              "      <td>0.000000</td>\n",
              "      <td>0.000000</td>\n",
              "      <td>1.000000</td>\n",
              "      <td>0.000000</td>\n",
              "      <td>2.000000</td>\n",
              "      <td>0.000000</td>\n",
              "    </tr>\n",
              "    <tr>\n",
              "      <th>50%</th>\n",
              "      <td>55.000000</td>\n",
              "      <td>1.000000</td>\n",
              "      <td>1.000000</td>\n",
              "      <td>130.000000</td>\n",
              "      <td>240.000000</td>\n",
              "      <td>0.000000</td>\n",
              "      <td>1.000000</td>\n",
              "      <td>153.000000</td>\n",
              "      <td>0.000000</td>\n",
              "      <td>0.800000</td>\n",
              "      <td>1.000000</td>\n",
              "      <td>0.000000</td>\n",
              "      <td>2.000000</td>\n",
              "      <td>1.000000</td>\n",
              "    </tr>\n",
              "    <tr>\n",
              "      <th>75%</th>\n",
              "      <td>61.000000</td>\n",
              "      <td>1.000000</td>\n",
              "      <td>2.000000</td>\n",
              "      <td>140.000000</td>\n",
              "      <td>274.500000</td>\n",
              "      <td>0.000000</td>\n",
              "      <td>1.000000</td>\n",
              "      <td>166.000000</td>\n",
              "      <td>1.000000</td>\n",
              "      <td>1.600000</td>\n",
              "      <td>2.000000</td>\n",
              "      <td>1.000000</td>\n",
              "      <td>3.000000</td>\n",
              "      <td>1.000000</td>\n",
              "    </tr>\n",
              "    <tr>\n",
              "      <th>max</th>\n",
              "      <td>77.000000</td>\n",
              "      <td>1.000000</td>\n",
              "      <td>3.000000</td>\n",
              "      <td>200.000000</td>\n",
              "      <td>564.000000</td>\n",
              "      <td>1.000000</td>\n",
              "      <td>2.000000</td>\n",
              "      <td>202.000000</td>\n",
              "      <td>1.000000</td>\n",
              "      <td>6.200000</td>\n",
              "      <td>2.000000</td>\n",
              "      <td>4.000000</td>\n",
              "      <td>3.000000</td>\n",
              "      <td>1.000000</td>\n",
              "    </tr>\n",
              "  </tbody>\n",
              "</table>\n",
              "</div>"
            ],
            "text/plain": [
              "              age      gender  ...  thalassemia      target\n",
              "count  303.000000  303.000000  ...   303.000000  303.000000\n",
              "mean    54.366337    0.683168  ...     2.313531    0.544554\n",
              "std      9.082101    0.466011  ...     0.612277    0.498835\n",
              "min     29.000000    0.000000  ...     0.000000    0.000000\n",
              "25%     47.500000    0.000000  ...     2.000000    0.000000\n",
              "50%     55.000000    1.000000  ...     2.000000    1.000000\n",
              "75%     61.000000    1.000000  ...     3.000000    1.000000\n",
              "max     77.000000    1.000000  ...     3.000000    1.000000\n",
              "\n",
              "[8 rows x 14 columns]"
            ]
          },
          "metadata": {
            "tags": []
          },
          "execution_count": 103
        }
      ]
    },
    {
      "cell_type": "markdown",
      "metadata": {
        "id": "t-H0eg3qd-0n",
        "colab_type": "text"
      },
      "source": [
        "With the describe method it is seen that all the columns are numeric in nature."
      ]
    },
    {
      "cell_type": "code",
      "metadata": {
        "id": "uqx8ULxmctTs",
        "colab_type": "code",
        "outputId": "bef44371-a3e3-47a0-9ed6-e8ae6429d44b",
        "colab": {
          "base_uri": "https://localhost:8080/",
          "height": 261
        }
      },
      "source": [
        "read.isnull().sum()"
      ],
      "execution_count": 104,
      "outputs": [
        {
          "output_type": "execute_result",
          "data": {
            "text/plain": [
              "age                               0\n",
              "gender                            0\n",
              "type_of_chest_pain                0\n",
              "blood_pressure                    0\n",
              "cholesterol                       0\n",
              "level_of_sugar_in_blood           0\n",
              "electrocardiogram                 0\n",
              "maximum_rate_of_heart_achieved    0\n",
              "exercise_induced_heart_attack     0\n",
              "standerd_depression               0\n",
              "standerd_slope                    0\n",
              "num_of_cardiac_vessels            0\n",
              "thalassemia                       0\n",
              "target                            0\n",
              "dtype: int64"
            ]
          },
          "metadata": {
            "tags": []
          },
          "execution_count": 104
        }
      ]
    },
    {
      "cell_type": "markdown",
      "metadata": {
        "id": "XmW4dwD_eFtA",
        "colab_type": "text"
      },
      "source": [
        "No null value is found in the data set which means there is no null value."
      ]
    },
    {
      "cell_type": "code",
      "metadata": {
        "id": "yrAfgXgteKl-",
        "colab_type": "code",
        "outputId": "8e41815c-3815-4eed-9beb-790d247107b1",
        "colab": {
          "base_uri": "https://localhost:8080/",
          "height": 825
        }
      },
      "source": [
        "\n",
        "fig,ax = plot.subplots(figsize=(20, 10))\n",
        "fig.suptitle(\"Correlation Matrix\", fontsize=20)\n",
        "sns.heatmap(read.corr(), ax=ax, annot=True, linewidths=0.05, fmt= '.2f',cmap=\"magma\")\n",
        "plot.show()"
      ],
      "execution_count": 106,
      "outputs": [
        {
          "output_type": "display_data",
          "data": {
            "image/png": "[encoded data removed]",
            "text/plain": [
              "<Figure size 1440x720 with 2 Axes>"
            ]
          },
          "metadata": {
            "tags": []
          }
        }
      ]
    },
    {
      "cell_type": "markdown",
      "metadata": {
        "id": "23fb9q5Mgqz0",
        "colab_type": "text"
      },
      "source": [
        "The correlation matrix shows the relationship between different features. The negative and positive correlation against the target is shown in this figure."
      ]
    },
    {
      "cell_type": "markdown",
      "metadata": {
        "id": "OF0EdVU8he-M",
        "colab_type": "text"
      },
      "source": [
        "With the help of correlation matrix, we can use visulation on the important columns to check the insights."
      ]
    },
    {
      "cell_type": "code",
      "metadata": {
        "id": "jS5HC2nrhp1G",
        "colab_type": "code",
        "outputId": "8864f838-e0e8-4392-9af1-272296c3a495",
        "colab": {
          "base_uri": "https://localhost:8080/",
          "height": 528
        }
      },
      "source": [
        "rcParams['figure.figsize'] = 11.7,8.30\n",
        "sns.barplot(x=read.age.value_counts().index,y=read.age.value_counts().values)\n",
        "plot.xlabel('Age')\n",
        "plot.ylabel('Total Number of Age Count')\n",
        "plot.title('Analysis of Age')\n",
        "plot.show()"
      ],
      "execution_count": 107,
      "outputs": [
        {
          "output_type": "display_data",
          "data": {
            "image/png": "[encoded data removed]",
            "text/plain": [
              "<Figure size 842.4x597.6 with 1 Axes>"
            ]
          },
          "metadata": {
            "tags": []
          }
        }
      ]
    },
    {
      "cell_type": "markdown",
      "metadata": {
        "id": "OCkJPeszCfkz",
        "colab_type": "text"
      },
      "source": [
        "It would be much better if we divide the age from into three catgories: Young Adult, Adult, Senior"
      ]
    },
    {
      "cell_type": "code",
      "metadata": {
        "id": "OFo1VBYokIfU",
        "colab_type": "code",
        "outputId": "a0d95c15-3f17-4b75-e4d0-4756434ebe68",
        "colab": {
          "base_uri": "https://localhost:8080/",
          "height": 297
        }
      },
      "source": [
        "## Lets look into the min and max age group\n",
        "\n",
        "read.describe()"
      ],
      "execution_count": 108,
      "outputs": [
        {
          "output_type": "execute_result",
          "data": {
            "text/html": [
              "<div>\n",
              "<style scoped>\n",
              "    .dataframe tbody tr th:only-of-type {\n",
              "        vertical-align: middle;\n",
              "    }\n",
              "\n",
              "    .dataframe tbody tr th {\n",
              "        vertical-align: top;\n",
              "    }\n",
              "\n",
              "    .dataframe thead th {\n",
              "        text-align: right;\n",
              "    }\n",
              "</style>\n",
              "<table border=\"1\" class=\"dataframe\">\n",
              "  <thead>\n",
              "    <tr style=\"text-align: right;\">\n",
              "      <th></th>\n",
              "      <th>age</th>\n",
              "      <th>gender</th>\n",
              "      <th>type_of_chest_pain</th>\n",
              "      <th>blood_pressure</th>\n",
              "      <th>cholesterol</th>\n",
              "      <th>level_of_sugar_in_blood</th>\n",
              "      <th>electrocardiogram</th>\n",
              "      <th>maximum_rate_of_heart_achieved</th>\n",
              "      <th>exercise_induced_heart_attack</th>\n",
              "      <th>standerd_depression</th>\n",
              "      <th>standerd_slope</th>\n",
              "      <th>num_of_cardiac_vessels</th>\n",
              "      <th>thalassemia</th>\n",
              "      <th>target</th>\n",
              "    </tr>\n",
              "  </thead>\n",
              "  <tbody>\n",
              "    <tr>\n",
              "      <th>count</th>\n",
              "      <td>303.000000</td>\n",
              "      <td>303.000000</td>\n",
              "      <td>303.000000</td>\n",
              "      <td>303.000000</td>\n",
              "      <td>303.000000</td>\n",
              "      <td>303.000000</td>\n",
              "      <td>303.000000</td>\n",
              "      <td>303.000000</td>\n",
              "      <td>303.000000</td>\n",
              "      <td>303.000000</td>\n",
              "      <td>303.000000</td>\n",
              "      <td>303.000000</td>\n",
              "      <td>303.000000</td>\n",
              "      <td>303.000000</td>\n",
              "    </tr>\n",
              "    <tr>\n",
              "      <th>mean</th>\n",
              "      <td>54.366337</td>\n",
              "      <td>0.683168</td>\n",
              "      <td>0.966997</td>\n",
              "      <td>131.623762</td>\n",
              "      <td>246.264026</td>\n",
              "      <td>0.148515</td>\n",
              "      <td>0.528053</td>\n",
              "      <td>149.646865</td>\n",
              "      <td>0.326733</td>\n",
              "      <td>1.039604</td>\n",
              "      <td>1.399340</td>\n",
              "      <td>0.729373</td>\n",
              "      <td>2.313531</td>\n",
              "      <td>0.544554</td>\n",
              "    </tr>\n",
              "    <tr>\n",
              "      <th>std</th>\n",
              "      <td>9.082101</td>\n",
              "      <td>0.466011</td>\n",
              "      <td>1.032052</td>\n",
              "      <td>17.538143</td>\n",
              "      <td>51.830751</td>\n",
              "      <td>0.356198</td>\n",
              "      <td>0.525860</td>\n",
              "      <td>22.905161</td>\n",
              "      <td>0.469794</td>\n",
              "      <td>1.161075</td>\n",
              "      <td>0.616226</td>\n",
              "      <td>1.022606</td>\n",
              "      <td>0.612277</td>\n",
              "      <td>0.498835</td>\n",
              "    </tr>\n",
              "    <tr>\n",
              "      <th>min</th>\n",
              "      <td>29.000000</td>\n",
              "      <td>0.000000</td>\n",
              "      <td>0.000000</td>\n",
              "      <td>94.000000</td>\n",
              "      <td>126.000000</td>\n",
              "      <td>0.000000</td>\n",
              "      <td>0.000000</td>\n",
              "      <td>71.000000</td>\n",
              "      <td>0.000000</td>\n",
              "      <td>0.000000</td>\n",
              "      <td>0.000000</td>\n",
              "      <td>0.000000</td>\n",
              "      <td>0.000000</td>\n",
              "      <td>0.000000</td>\n",
              "    </tr>\n",
              "    <tr>\n",
              "      <th>25%</th>\n",
              "      <td>47.500000</td>\n",
              "      <td>0.000000</td>\n",
              "      <td>0.000000</td>\n",
              "      <td>120.000000</td>\n",
              "      <td>211.000000</td>\n",
              "      <td>0.000000</td>\n",
              "      <td>0.000000</td>\n",
              "      <td>133.500000</td>\n",
              "      <td>0.000000</td>\n",
              "      <td>0.000000</td>\n",
              "      <td>1.000000</td>\n",
              "      <td>0.000000</td>\n",
              "      <td>2.000000</td>\n",
              "      <td>0.000000</td>\n",
              "    </tr>\n",
              "    <tr>\n",
              "      <th>50%</th>\n",
              "      <td>55.000000</td>\n",
              "      <td>1.000000</td>\n",
              "      <td>1.000000</td>\n",
              "      <td>130.000000</td>\n",
              "      <td>240.000000</td>\n",
              "      <td>0.000000</td>\n",
              "      <td>1.000000</td>\n",
              "      <td>153.000000</td>\n",
              "      <td>0.000000</td>\n",
              "      <td>0.800000</td>\n",
              "      <td>1.000000</td>\n",
              "      <td>0.000000</td>\n",
              "      <td>2.000000</td>\n",
              "      <td>1.000000</td>\n",
              "    </tr>\n",
              "    <tr>\n",
              "      <th>75%</th>\n",
              "      <td>61.000000</td>\n",
              "      <td>1.000000</td>\n",
              "      <td>2.000000</td>\n",
              "      <td>140.000000</td>\n",
              "      <td>274.500000</td>\n",
              "      <td>0.000000</td>\n",
              "      <td>1.000000</td>\n",
              "      <td>166.000000</td>\n",
              "      <td>1.000000</td>\n",
              "      <td>1.600000</td>\n",
              "      <td>2.000000</td>\n",
              "      <td>1.000000</td>\n",
              "      <td>3.000000</td>\n",
              "      <td>1.000000</td>\n",
              "    </tr>\n",
              "    <tr>\n",
              "      <th>max</th>\n",
              "      <td>77.000000</td>\n",
              "      <td>1.000000</td>\n",
              "      <td>3.000000</td>\n",
              "      <td>200.000000</td>\n",
              "      <td>564.000000</td>\n",
              "      <td>1.000000</td>\n",
              "      <td>2.000000</td>\n",
              "      <td>202.000000</td>\n",
              "      <td>1.000000</td>\n",
              "      <td>6.200000</td>\n",
              "      <td>2.000000</td>\n",
              "      <td>4.000000</td>\n",
              "      <td>3.000000</td>\n",
              "      <td>1.000000</td>\n",
              "    </tr>\n",
              "  </tbody>\n",
              "</table>\n",
              "</div>"
            ],
            "text/plain": [
              "              age      gender  ...  thalassemia      target\n",
              "count  303.000000  303.000000  ...   303.000000  303.000000\n",
              "mean    54.366337    0.683168  ...     2.313531    0.544554\n",
              "std      9.082101    0.466011  ...     0.612277    0.498835\n",
              "min     29.000000    0.000000  ...     0.000000    0.000000\n",
              "25%     47.500000    0.000000  ...     2.000000    0.000000\n",
              "50%     55.000000    1.000000  ...     2.000000    1.000000\n",
              "75%     61.000000    1.000000  ...     3.000000    1.000000\n",
              "max     77.000000    1.000000  ...     3.000000    1.000000\n",
              "\n",
              "[8 rows x 14 columns]"
            ]
          },
          "metadata": {
            "tags": []
          },
          "execution_count": 108
        }
      ]
    },
    {
      "cell_type": "markdown",
      "metadata": {
        "id": "xnck40W5DOKK",
        "colab_type": "text"
      },
      "source": [
        "The min age is 29 and max is 77"
      ]
    },
    {
      "cell_type": "code",
      "metadata": {
        "id": "L248DtJDDKSc",
        "colab_type": "code",
        "outputId": "5afd0ee9-d556-4c7a-938a-23dea0b1163c",
        "colab": {
          "base_uri": "https://localhost:8080/",
          "height": 66
        }
      },
      "source": [
        "minor_adult=read[(read.age>=29)&(read.age<35)]\n",
        "major_adult=read[(read.age>=35)&(read.age<55)]\n",
        "senior=read[(read.age>55)]\n",
        "print('Minor Adult :',len(minor_adult))\n",
        "print('Major Adult :',len(major_adult))\n",
        "print('Senior :',len(senior))"
      ],
      "execution_count": 109,
      "outputs": [
        {
          "output_type": "stream",
          "text": [
            "Minor Adult : 3\n",
            "Major Adult : 141\n",
            "Senior : 151\n"
          ],
          "name": "stdout"
        }
      ]
    },
    {
      "cell_type": "code",
      "metadata": {
        "id": "qKOZeNVQEO8t",
        "colab_type": "code",
        "outputId": "ca7b0551-3f46-43e9-d6c0-d2422a7bbfbb",
        "colab": {
          "base_uri": "https://localhost:8080/",
          "height": 528
        }
      },
      "source": [
        "sns.barplot(x=['Minor adult','Major adult','senior'],y=[len(minor_adult),len(major_adult),len(senior)])\n",
        "plot.xlabel('Variation in Age')\n",
        "plot.ylabel('Counts')\n",
        "plot.title('Total Age in DataSet')\n",
        "plot.show()"
      ],
      "execution_count": 111,
      "outputs": [
        {
          "output_type": "display_data",
          "data": {
            "image/png": "[encoded data removed]",
            "text/plain": [
              "<Figure size 842.4x597.6 with 1 Axes>"
            ]
          },
          "metadata": {
            "tags": []
          }
        }
      ]
    },
    {
      "cell_type": "markdown",
      "metadata": {
        "id": "LOG1UhYNFSvn",
        "colab_type": "text"
      },
      "source": [
        "Lets look into the heart disease occured in different ages with respect to target."
      ]
    },
    {
      "cell_type": "code",
      "metadata": {
        "id": "rRKTpu3cEkce",
        "colab_type": "code",
        "outputId": "cdfbe0fd-f836-46b5-dc71-c553e8126257",
        "colab": {
          "base_uri": "https://localhost:8080/",
          "height": 407
        }
      },
      "source": [
        "pan.crosstab(read.age,read.target).plot(kind=\"bar\",figsize=(25,6))\n",
        "plot.title(' Cardiac Dieases in Ages')\n",
        "plot.xlabel('Age')\n",
        "plot.ylabel('Occurance')\n",
        "plot.show()"
      ],
      "execution_count": 112,
      "outputs": [
        {
          "output_type": "display_data",
          "data": {
            "image/png": "[encoded data removed]",
            "text/plain": [
              "<Figure size 1800x432 with 1 Axes>"
            ]
          },
          "metadata": {
            "tags": []
          }
        }
      ]
    },
    {
      "cell_type": "markdown",
      "metadata": {
        "id": "_P5gckcMJLSK",
        "colab_type": "text"
      },
      "source": [
        "The Scatter plot shows that the age range from 42 to 55 have heart diseases. the senior people were found less disease which is gernerally the case becasue the people with heart disease dont often live long."
      ]
    },
    {
      "cell_type": "code",
      "metadata": {
        "id": "XTcs-PdBE3w-",
        "colab_type": "code",
        "outputId": "a663f226-11c5-4a38-88b9-c45afb8c7b3d",
        "colab": {
          "base_uri": "https://localhost:8080/",
          "height": 517
        }
      },
      "source": [
        "plot.scatter(x=read.age[read.target==1], y=read.maximum_rate_of_heart_achieved[(read.target==1)], c=\"red\")\n",
        "plot.scatter(x=read.age[read.target==0], y=read.maximum_rate_of_heart_achieved[(read.target==0)], c='green')\n",
        "plot.legend([\"Disease\", \"No Disease\"])\n",
        "plot.xlabel(\"Age\")\n",
        "plot.ylabel(\"Cardiac Rate\")\n",
        "plot.show()"
      ],
      "execution_count": 113,
      "outputs": [
        {
          "output_type": "display_data",
          "data": {
            "image/png": "[encoded data removed]",
            "text/plain": [
              "<Figure size 842.4x597.6 with 1 Axes>"
            ]
          },
          "metadata": {
            "tags": []
          }
        }
      ]
    },
    {
      "cell_type": "markdown",
      "metadata": {
        "id": "zwOt2WpQKAkS",
        "colab_type": "text"
      },
      "source": [
        "Lets look into the gender with heart disease. It is seen that the female have more heart disease compare to male. It also seems that the data contain more male compare to female."
      ]
    },
    {
      "cell_type": "code",
      "metadata": {
        "id": "f-fdoJhWHQ6D",
        "colab_type": "code",
        "outputId": "b9e782cb-43f8-4ec8-b160-165a69a867bb",
        "colab": {
          "base_uri": "https://localhost:8080/",
          "height": 403
        }
      },
      "source": [
        "pan.crosstab(read.gender,read.target).plot(kind=\"bar\",figsize=(15,6),color=['#0000FF','#AA1111' ])\n",
        "plot.title('Cardiac Disease for Gender')\n",
        "plot.xlabel('Gender (0 = Female, 1 = Male)')\n",
        "plot.xticks(rotation=0)\n",
        "plot.legend([\"No Disease\", \"Have Disease\"])\n",
        "plot.ylabel('Frequency')\n",
        "plot.show()"
      ],
      "execution_count": 114,
      "outputs": [
        {
          "output_type": "display_data",
          "data": {
            "image/png": "[encoded data removed]",
            "text/plain": [
              "<Figure size 1080x432 with 1 Axes>"
            ]
          },
          "metadata": {
            "tags": []
          }
        }
      ]
    },
    {
      "cell_type": "markdown",
      "metadata": {
        "id": "uTMv0marL18a",
        "colab_type": "text"
      },
      "source": [
        "lets look into the Chest pain type because majority of the heart diseases involve severe chest pain.\n"
      ]
    },
    {
      "cell_type": "code",
      "metadata": {
        "id": "GP9-HbwQKFy-",
        "colab_type": "code",
        "outputId": "c217c60d-bf19-4160-860e-ce3acdb4d0a7",
        "colab": {
          "base_uri": "https://localhost:8080/",
          "height": 512
        }
      },
      "source": [
        "pan.crosstab(read.type_of_chest_pain,read.target).plot(kind=\"bar\",figsize=(20,8),color=['#FFC0CB','#FF5733' ])\n",
        "plot.title('Cardiac Disease Frequency for Slope')\n",
        "plot.xlabel('Angina/Chest Pain ')\n",
        "plot.xticks(rotation = 0)\n",
        "plot.ylabel('Number of Occurence')\n",
        "plot.show()"
      ],
      "execution_count": 117,
      "outputs": [
        {
          "output_type": "display_data",
          "data": {
            "image/png": "[encoded data removed]",
            "text/plain": [
              "<Figure size 1440x576 with 1 Axes>"
            ]
          },
          "metadata": {
            "tags": []
          }
        }
      ]
    },
    {
      "cell_type": "markdown",
      "metadata": {
        "id": "in2FQDkDMMbz",
        "colab_type": "text"
      },
      "source": [
        "The Chest pain type 1 and 2 is more in the patient.Lets look further look into the bloooad pressure and cholesterol level becauase the high cholesterol means high blood pressure which will lead to different types of chestpains."
      ]
    },
    {
      "cell_type": "markdown",
      "metadata": {
        "id": "TUSMmcakNRmx",
        "colab_type": "text"
      },
      "source": [
        "It is clearly seen that the chest type 2 and 1 have more cholestrola and high blood pressure. It can be said that these two factor plays a great role in having a heart disease in humans."
      ]
    },
    {
      "cell_type": "code",
      "metadata": {
        "id": "yXYKT00kK47v",
        "colab_type": "code",
        "outputId": "d8f57026-6e86-42d3-d56d-42f5633a3625",
        "colab": {
          "base_uri": "https://localhost:8080/",
          "height": 368
        }
      },
      "source": [
        "sns.lmplot(x=\"blood_pressure\", y=\"cholesterol\",data=df,hue=\"type_of_chest_pain\")\n",
        "plot.show()"
      ],
      "execution_count": 119,
      "outputs": [
        {
          "output_type": "display_data",
          "data": {
            "image/png": "[encoded data removed]",
            "text/plain": [
              "<Figure size 463.5x360 with 1 Axes>"
            ]
          },
          "metadata": {
            "tags": []
          }
        }
      ]
    },
    {
      "cell_type": "code",
      "metadata": {
        "id": "H812m-Z1MLaS",
        "colab_type": "code",
        "outputId": "30bbd3cf-aded-43e0-df0f-fdcbbfeefd9b",
        "colab": {
          "base_uri": "https://localhost:8080/",
          "height": 627
        }
      },
      "source": [
        "diagram, ax = plot.subplots(nrows=2, ncols=4, figsize=(30, 10))\n",
        "fig.suptitle(\"Categorical Variable Distributions\", fontsize=16)\n",
        "\n",
        "x = ['Female','Male']\n",
        "y = read.gender.value_counts(sort = False).values\n",
        "ax[0][0].bar(x,y)\n",
        "ax[0][0].set_title('Gender')\n",
        "\n",
        "x = ['0','1','2','3']\n",
        "y = read.type_of_chest_pain.value_counts(sort = False).values\n",
        "ax[0][1].bar(x,y)\n",
        "ax[0][1].set_title('Chest Pain')\n",
        "\n",
        "x = ['Healthy','Unhealthy']\n",
        "y = read.level_of_sugar_in_blood.value_counts(sort = False).values\n",
        "ax[0][2].bar(x,y)\n",
        "ax[0][2].set_title(' Blood Sugar')\n",
        "\n",
        "x = ['Regular','Abnormality','Severe']\n",
        "y = read.electrocardiogram.value_counts(sort = False).values\n",
        "ax[0][3].bar(x,y)\n",
        "ax[0][3].set_title('Electrocardiographic')\n",
        "\n",
        "\n",
        "x = ['No','Yes']\n",
        "y = read.exercise_induced_heart_attack.value_counts(sort = False).values\n",
        "ax[1][0].bar(x,y)\n",
        "ax[1][0].set_title('Exercise induced Angina')\n",
        "\n",
        "x = ['Downward','Flat','Upward']\n",
        "y = read.standerd_slope.value_counts(sort = False).values\n",
        "ax[1][1].bar(x,y)\n",
        "ax[1][1].set_title('ST excercise peak')\n",
        "\n",
        "x = ['None','Normal','Fixed Defect','Reversable Defect']\n",
        "y = read.thalassemia.value_counts(sort = False).values\n",
        "ax[1][2].bar(x,y)\n",
        "ax[1][2].set_title('Thalium Stress Test')\n",
        "\n",
        "x = ['No','Yes']\n",
        "y = read.target.value_counts(sort = False).values\n",
        "ax[1][3].bar(x,y)\n",
        "ax[1][3].set_title('Heart Disease')\n",
        "\n",
        "plot.show()\n"
      ],
      "execution_count": 121,
      "outputs": [
        {
          "output_type": "display_data",
          "data": {
            "image/png": "[encoded data removed]",
            "text/plain": [
              "<Figure size 2160x720 with 8 Axes>"
            ]
          },
          "metadata": {
            "tags": []
          }
        }
      ]
    },
    {
      "cell_type": "markdown",
      "metadata": {
        "id": "-UZW-YhEmDkk",
        "colab_type": "text"
      },
      "source": [
        "##Methodology"
      ]
    },
    {
      "cell_type": "markdown",
      "metadata": {
        "id": "bjbcbGu2oJ0S",
        "colab_type": "text"
      },
      "source": [
        "This section contain the information for different algorithms used for pridectiting the cause of heart diseases. Intially, logisitc regression is used to for pridiction. To implement this algorithm, we need to find the depednedt and independent vairable and then speartae them accordingly. Different parameter is set to find the best accuracy for this model.\n",
        "The normilization and z-score method will be used for scaling. We will use these methods for Support vector machine. The KNN algorithm will also be used later on."
      ]
    },
    {
      "cell_type": "code",
      "metadata": {
        "id": "coYVKWsGNQtO",
        "colab_type": "code",
        "outputId": "29453bc1-0f6f-4747-d821-c41a7bd81a7e",
        "colab": {
          "base_uri": "https://localhost:8080/",
          "height": 470
        }
      },
      "source": [
        "read.corr()"
      ],
      "execution_count": 122,
      "outputs": [
        {
          "output_type": "execute_result",
          "data": {
            "text/html": [
              "<div>\n",
              "<style scoped>\n",
              "    .dataframe tbody tr th:only-of-type {\n",
              "        vertical-align: middle;\n",
              "    }\n",
              "\n",
              "    .dataframe tbody tr th {\n",
              "        vertical-align: top;\n",
              "    }\n",
              "\n",
              "    .dataframe thead th {\n",
              "        text-align: right;\n",
              "    }\n",
              "</style>\n",
              "<table border=\"1\" class=\"dataframe\">\n",
              "  <thead>\n",
              "    <tr style=\"text-align: right;\">\n",
              "      <th></th>\n",
              "      <th>age</th>\n",
              "      <th>gender</th>\n",
              "      <th>type_of_chest_pain</th>\n",
              "      <th>blood_pressure</th>\n",
              "      <th>cholesterol</th>\n",
              "      <th>level_of_sugar_in_blood</th>\n",
              "      <th>electrocardiogram</th>\n",
              "      <th>maximum_rate_of_heart_achieved</th>\n",
              "      <th>exercise_induced_heart_attack</th>\n",
              "      <th>standerd_depression</th>\n",
              "      <th>standerd_slope</th>\n",
              "      <th>num_of_cardiac_vessels</th>\n",
              "      <th>thalassemia</th>\n",
              "      <th>target</th>\n",
              "    </tr>\n",
              "  </thead>\n",
              "  <tbody>\n",
              "    <tr>\n",
              "      <th>age</th>\n",
              "      <td>1.000000</td>\n",
              "      <td>-0.098447</td>\n",
              "      <td>-0.068653</td>\n",
              "      <td>0.279351</td>\n",
              "      <td>0.213678</td>\n",
              "      <td>0.121308</td>\n",
              "      <td>-0.116211</td>\n",
              "      <td>-0.398522</td>\n",
              "      <td>0.096801</td>\n",
              "      <td>0.210013</td>\n",
              "      <td>-0.168814</td>\n",
              "      <td>0.276326</td>\n",
              "      <td>0.068001</td>\n",
              "      <td>-0.225439</td>\n",
              "    </tr>\n",
              "    <tr>\n",
              "      <th>gender</th>\n",
              "      <td>-0.098447</td>\n",
              "      <td>1.000000</td>\n",
              "      <td>-0.049353</td>\n",
              "      <td>-0.056769</td>\n",
              "      <td>-0.197912</td>\n",
              "      <td>0.045032</td>\n",
              "      <td>-0.058196</td>\n",
              "      <td>-0.044020</td>\n",
              "      <td>0.141664</td>\n",
              "      <td>0.096093</td>\n",
              "      <td>-0.030711</td>\n",
              "      <td>0.118261</td>\n",
              "      <td>0.210041</td>\n",
              "      <td>-0.280937</td>\n",
              "    </tr>\n",
              "    <tr>\n",
              "      <th>type_of_chest_pain</th>\n",
              "      <td>-0.068653</td>\n",
              "      <td>-0.049353</td>\n",
              "      <td>1.000000</td>\n",
              "      <td>0.047608</td>\n",
              "      <td>-0.076904</td>\n",
              "      <td>0.094444</td>\n",
              "      <td>0.044421</td>\n",
              "      <td>0.295762</td>\n",
              "      <td>-0.394280</td>\n",
              "      <td>-0.149230</td>\n",
              "      <td>0.119717</td>\n",
              "      <td>-0.181053</td>\n",
              "      <td>-0.161736</td>\n",
              "      <td>0.433798</td>\n",
              "    </tr>\n",
              "    <tr>\n",
              "      <th>blood_pressure</th>\n",
              "      <td>0.279351</td>\n",
              "      <td>-0.056769</td>\n",
              "      <td>0.047608</td>\n",
              "      <td>1.000000</td>\n",
              "      <td>0.123174</td>\n",
              "      <td>0.177531</td>\n",
              "      <td>-0.114103</td>\n",
              "      <td>-0.046698</td>\n",
              "      <td>0.067616</td>\n",
              "      <td>0.193216</td>\n",
              "      <td>-0.121475</td>\n",
              "      <td>0.101389</td>\n",
              "      <td>0.062210</td>\n",
              "      <td>-0.144931</td>\n",
              "    </tr>\n",
              "    <tr>\n",
              "      <th>cholesterol</th>\n",
              "      <td>0.213678</td>\n",
              "      <td>-0.197912</td>\n",
              "      <td>-0.076904</td>\n",
              "      <td>0.123174</td>\n",
              "      <td>1.000000</td>\n",
              "      <td>0.013294</td>\n",
              "      <td>-0.151040</td>\n",
              "      <td>-0.009940</td>\n",
              "      <td>0.067023</td>\n",
              "      <td>0.053952</td>\n",
              "      <td>-0.004038</td>\n",
              "      <td>0.070511</td>\n",
              "      <td>0.098803</td>\n",
              "      <td>-0.085239</td>\n",
              "    </tr>\n",
              "    <tr>\n",
              "      <th>level_of_sugar_in_blood</th>\n",
              "      <td>0.121308</td>\n",
              "      <td>0.045032</td>\n",
              "      <td>0.094444</td>\n",
              "      <td>0.177531</td>\n",
              "      <td>0.013294</td>\n",
              "      <td>1.000000</td>\n",
              "      <td>-0.084189</td>\n",
              "      <td>-0.008567</td>\n",
              "      <td>0.025665</td>\n",
              "      <td>0.005747</td>\n",
              "      <td>-0.059894</td>\n",
              "      <td>0.137979</td>\n",
              "      <td>-0.032019</td>\n",
              "      <td>-0.028046</td>\n",
              "    </tr>\n",
              "    <tr>\n",
              "      <th>electrocardiogram</th>\n",
              "      <td>-0.116211</td>\n",
              "      <td>-0.058196</td>\n",
              "      <td>0.044421</td>\n",
              "      <td>-0.114103</td>\n",
              "      <td>-0.151040</td>\n",
              "      <td>-0.084189</td>\n",
              "      <td>1.000000</td>\n",
              "      <td>0.044123</td>\n",
              "      <td>-0.070733</td>\n",
              "      <td>-0.058770</td>\n",
              "      <td>0.093045</td>\n",
              "      <td>-0.072042</td>\n",
              "      <td>-0.011981</td>\n",
              "      <td>0.137230</td>\n",
              "    </tr>\n",
              "    <tr>\n",
              "      <th>maximum_rate_of_heart_achieved</th>\n",
              "      <td>-0.398522</td>\n",
              "      <td>-0.044020</td>\n",
              "      <td>0.295762</td>\n",
              "      <td>-0.046698</td>\n",
              "      <td>-0.009940</td>\n",
              "      <td>-0.008567</td>\n",
              "      <td>0.044123</td>\n",
              "      <td>1.000000</td>\n",
              "      <td>-0.378812</td>\n",
              "      <td>-0.344187</td>\n",
              "      <td>0.386784</td>\n",
              "      <td>-0.213177</td>\n",
              "      <td>-0.096439</td>\n",
              "      <td>0.421741</td>\n",
              "    </tr>\n",
              "    <tr>\n",
              "      <th>exercise_induced_heart_attack</th>\n",
              "      <td>0.096801</td>\n",
              "      <td>0.141664</td>\n",
              "      <td>-0.394280</td>\n",
              "      <td>0.067616</td>\n",
              "      <td>0.067023</td>\n",
              "      <td>0.025665</td>\n",
              "      <td>-0.070733</td>\n",
              "      <td>-0.378812</td>\n",
              "      <td>1.000000</td>\n",
              "      <td>0.288223</td>\n",
              "      <td>-0.257748</td>\n",
              "      <td>0.115739</td>\n",
              "      <td>0.206754</td>\n",
              "      <td>-0.436757</td>\n",
              "    </tr>\n",
              "    <tr>\n",
              "      <th>standerd_depression</th>\n",
              "      <td>0.210013</td>\n",
              "      <td>0.096093</td>\n",
              "      <td>-0.149230</td>\n",
              "      <td>0.193216</td>\n",
              "      <td>0.053952</td>\n",
              "      <td>0.005747</td>\n",
              "      <td>-0.058770</td>\n",
              "      <td>-0.344187</td>\n",
              "      <td>0.288223</td>\n",
              "      <td>1.000000</td>\n",
              "      <td>-0.577537</td>\n",
              "      <td>0.222682</td>\n",
              "      <td>0.210244</td>\n",
              "      <td>-0.430696</td>\n",
              "    </tr>\n",
              "    <tr>\n",
              "      <th>standerd_slope</th>\n",
              "      <td>-0.168814</td>\n",
              "      <td>-0.030711</td>\n",
              "      <td>0.119717</td>\n",
              "      <td>-0.121475</td>\n",
              "      <td>-0.004038</td>\n",
              "      <td>-0.059894</td>\n",
              "      <td>0.093045</td>\n",
              "      <td>0.386784</td>\n",
              "      <td>-0.257748</td>\n",
              "      <td>-0.577537</td>\n",
              "      <td>1.000000</td>\n",
              "      <td>-0.080155</td>\n",
              "      <td>-0.104764</td>\n",
              "      <td>0.345877</td>\n",
              "    </tr>\n",
              "    <tr>\n",
              "      <th>num_of_cardiac_vessels</th>\n",
              "      <td>0.276326</td>\n",
              "      <td>0.118261</td>\n",
              "      <td>-0.181053</td>\n",
              "      <td>0.101389</td>\n",
              "      <td>0.070511</td>\n",
              "      <td>0.137979</td>\n",
              "      <td>-0.072042</td>\n",
              "      <td>-0.213177</td>\n",
              "      <td>0.115739</td>\n",
              "      <td>0.222682</td>\n",
              "      <td>-0.080155</td>\n",
              "      <td>1.000000</td>\n",
              "      <td>0.151832</td>\n",
              "      <td>-0.391724</td>\n",
              "    </tr>\n",
              "    <tr>\n",
              "      <th>thalassemia</th>\n",
              "      <td>0.068001</td>\n",
              "      <td>0.210041</td>\n",
              "      <td>-0.161736</td>\n",
              "      <td>0.062210</td>\n",
              "      <td>0.098803</td>\n",
              "      <td>-0.032019</td>\n",
              "      <td>-0.011981</td>\n",
              "      <td>-0.096439</td>\n",
              "      <td>0.206754</td>\n",
              "      <td>0.210244</td>\n",
              "      <td>-0.104764</td>\n",
              "      <td>0.151832</td>\n",
              "      <td>1.000000</td>\n",
              "      <td>-0.344029</td>\n",
              "    </tr>\n",
              "    <tr>\n",
              "      <th>target</th>\n",
              "      <td>-0.225439</td>\n",
              "      <td>-0.280937</td>\n",
              "      <td>0.433798</td>\n",
              "      <td>-0.144931</td>\n",
              "      <td>-0.085239</td>\n",
              "      <td>-0.028046</td>\n",
              "      <td>0.137230</td>\n",
              "      <td>0.421741</td>\n",
              "      <td>-0.436757</td>\n",
              "      <td>-0.430696</td>\n",
              "      <td>0.345877</td>\n",
              "      <td>-0.391724</td>\n",
              "      <td>-0.344029</td>\n",
              "      <td>1.000000</td>\n",
              "    </tr>\n",
              "  </tbody>\n",
              "</table>\n",
              "</div>"
            ],
            "text/plain": [
              "                                     age    gender  ...  thalassemia    target\n",
              "age                             1.000000 -0.098447  ...     0.068001 -0.225439\n",
              "gender                         -0.098447  1.000000  ...     0.210041 -0.280937\n",
              "type_of_chest_pain             -0.068653 -0.049353  ...    -0.161736  0.433798\n",
              "blood_pressure                  0.279351 -0.056769  ...     0.062210 -0.144931\n",
              "cholesterol                     0.213678 -0.197912  ...     0.098803 -0.085239\n",
              "level_of_sugar_in_blood         0.121308  0.045032  ...    -0.032019 -0.028046\n",
              "electrocardiogram              -0.116211 -0.058196  ...    -0.011981  0.137230\n",
              "maximum_rate_of_heart_achieved -0.398522 -0.044020  ...    -0.096439  0.421741\n",
              "exercise_induced_heart_attack   0.096801  0.141664  ...     0.206754 -0.436757\n",
              "standerd_depression             0.210013  0.096093  ...     0.210244 -0.430696\n",
              "standerd_slope                 -0.168814 -0.030711  ...    -0.104764  0.345877\n",
              "num_of_cardiac_vessels          0.276326  0.118261  ...     0.151832 -0.391724\n",
              "thalassemia                     0.068001  0.210041  ...     1.000000 -0.344029\n",
              "target                         -0.225439 -0.280937  ...    -0.344029  1.000000\n",
              "\n",
              "[14 rows x 14 columns]"
            ]
          },
          "metadata": {
            "tags": []
          },
          "execution_count": 122
        }
      ]
    },
    {
      "cell_type": "markdown",
      "metadata": {
        "id": "0E61ThKOqC4L",
        "colab_type": "text"
      },
      "source": [
        "The correclation is used to check the relation ship among different columns. Note that if the value is 1 that means the relation is bad.We need to drop the target first because the pridcition will be used on this column. The target is to normilize the min value to 0 and max value to 1.\n",
        "\n"
      ]
    },
    {
      "cell_type": "code",
      "metadata": {
        "id": "1XFPoAIjqS_J",
        "colab_type": "code",
        "colab": {}
      },
      "source": [
        "read_x=read.drop('target',axis=1)\n",
        "read_y=read['target']"
      ],
      "execution_count": 0,
      "outputs": []
    },
    {
      "cell_type": "markdown",
      "metadata": {
        "id": "YAP5a51Escc-",
        "colab_type": "text"
      },
      "source": [
        "The traning data is split to 80% and testing data is split to 20 %"
      ]
    },
    {
      "cell_type": "code",
      "metadata": {
        "id": "SuYjJGXjqRW5",
        "colab_type": "code",
        "colab": {}
      },
      "source": [
        "from sklearn.model_selection import GridSearchCV,train_test_split,cross_val_score\n",
        "x_train,x_test,y_train,y_test=train_test_split(read_x,read_y,test_size=0.2)"
      ],
      "execution_count": 0,
      "outputs": []
    },
    {
      "cell_type": "code",
      "metadata": {
        "id": "WqqPFsn5skhz",
        "colab_type": "code",
        "colab": {}
      },
      "source": [
        "## NORMILZAITION\n",
        "x_train=(x_train-num.min(x_train))/(num.max(x_train)-num.min(x_train)).values\n",
        "x_test=(x_test-num.min(x_test))/(num.max(x_test)-num.min(x_test)).values"
      ],
      "execution_count": 0,
      "outputs": []
    },
    {
      "cell_type": "markdown",
      "metadata": {
        "id": "arocKYYvtdzW",
        "colab_type": "text"
      },
      "source": [
        "Lets first look at KNN model.\n"
      ]
    },
    {
      "cell_type": "markdown",
      "metadata": {
        "id": "NZL-8fQ-vm4h",
        "colab_type": "text"
      },
      "source": [
        "###KNN\n"
      ]
    },
    {
      "cell_type": "markdown",
      "metadata": {
        "id": "x8YRbQn9zB2m",
        "colab_type": "text"
      },
      "source": [
        "The first model which I've used is KNN. This models look at the nearst value when K is defined. The K is set to 3 which gives the best accuracy. The accuracy for KNN is 80.328% which is good for this particular dataset. The data is splited into 80 to 20 which is 80 for training and 20 for testing. Note: The accuracy is depended on the attributes that the algortihm choose so the accuracy will vary."
      ]
    },
    {
      "cell_type": "code",
      "metadata": {
        "id": "A_MO-gFLtozS",
        "colab_type": "code",
        "outputId": "0157e7f1-94f7-452e-ac10-e226ab90e6d2",
        "colab": {
          "base_uri": "https://localhost:8080/",
          "height": 33
        }
      },
      "source": [
        "from sklearn.neighbors import KNeighborsClassifier\n",
        "k= KNeighborsClassifier(n_neighbors = 3)  # n_neighbors means k\n",
        "k.fit(x_train, y_train)\n",
        "pre = k.predict(x_test)\n",
        "\n",
        "print(\"{} KNN Score: {:.3f}%\".format(3, k.score(x_test, y_test)*100))"
      ],
      "execution_count": 137,
      "outputs": [
        {
          "output_type": "stream",
          "text": [
            "3 KNN Score: 67.213%\n"
          ],
          "name": "stdout"
        }
      ]
    },
    {
      "cell_type": "markdown",
      "metadata": {
        "id": "kbc24NzP0db9",
        "colab_type": "text"
      },
      "source": [
        "###Support Vector Machine"
      ]
    },
    {
      "cell_type": "markdown",
      "metadata": {
        "id": "ZlVWC159ziIM",
        "colab_type": "text"
      },
      "source": [
        "The second model which I've created is SVM. The SVM is a supervised learning algorithm which is used to solve the regression problem. The accuracy for this model is 78.69%. The reason for using SVM is because it can use both classification and regression."
      ]
    },
    {
      "cell_type": "code",
      "metadata": {
        "id": "2fXC-zeov3aL",
        "colab_type": "code",
        "outputId": "d2660429-6b3b-4f6b-ac82-cefd44411aad",
        "colab": {
          "base_uri": "https://localhost:8080/",
          "height": 33
        }
      },
      "source": [
        "from sklearn.svm import SVC\n",
        "\n",
        "svm = SVC(random_state = 1)\n",
        "svm.fit(x_train, y_train)\n",
        "\n",
        "ac = svm.score(x_test,y_test)*100\n",
        "#prediction = k.predict(x_test)\n",
        "\n",
        "#predictions = svm.predict(x_test)\n",
        "print(\"Testing Accuracy SVM Algorithm: {:.2f}%\".format(ac))\n"
      ],
      "execution_count": 138,
      "outputs": [
        {
          "output_type": "stream",
          "text": [
            "Testing Accuracy SVM Algorithm: 72.13%\n"
          ],
          "name": "stdout"
        }
      ]
    },
    {
      "cell_type": "markdown",
      "metadata": {
        "id": "v4cr9lwT1kdc",
        "colab_type": "text"
      },
      "source": [
        "###Logistic Regeression"
      ]
    },
    {
      "cell_type": "markdown",
      "metadata": {
        "id": "PGmh_3Qt1awx",
        "colab_type": "text"
      },
      "source": [
        "The third model is logistic Regeression. The accuracy for this model is 73.77%. The reason for using this model is it explain the relation ship between ordinal, catogorigal and nominal feature which my dataset have to I used this model."
      ]
    },
    {
      "cell_type": "code",
      "metadata": {
        "id": "bInAvnXMzEta",
        "colab_type": "code",
        "outputId": "ef5523f4-ac0c-4c3b-810e-3e15459ad4d3",
        "colab": {
          "base_uri": "https://localhost:8080/",
          "height": 33
        }
      },
      "source": [
        "from sklearn.linear_model import LogisticRegression\n",
        "\n",
        "l=LogisticRegression(C=0.1,penalty='l1',random_state=1)\n",
        "l.fit(x_train,y_train)\n",
        "act=l.score(x_test,y_test)*100\n",
        "print(\"Accuracy for Logistic Regression: {:.2f}%\".format(act))"
      ],
      "execution_count": 139,
      "outputs": [
        {
          "output_type": "stream",
          "text": [
            "Accuracy for Logistic Regression: 63.93%\n"
          ],
          "name": "stdout"
        }
      ]
    },
    {
      "cell_type": "markdown",
      "metadata": {
        "id": "2kjmeBdo1jF9",
        "colab_type": "text"
      },
      "source": [
        "###Random Forest"
      ]
    },
    {
      "cell_type": "markdown",
      "metadata": {
        "id": "jQOw2LRv15EE",
        "colab_type": "text"
      },
      "source": [
        "The fourth model is random forest. It is use for classification and regression. The accuracy is 75.41%."
      ]
    },
    {
      "cell_type": "code",
      "metadata": {
        "id": "JXO6wMjP3vqO",
        "colab_type": "code",
        "outputId": "a3f0fba5-b129-4557-8f3c-0596c308f8c6",
        "colab": {
          "base_uri": "https://localhost:8080/",
          "height": 33
        }
      },
      "source": [
        "from sklearn.ensemble import RandomForestClassifier\n",
        "rf = RandomForestClassifier(n_estimators = 1000, random_state = 1)\n",
        "rf.fit(x_train, y_train)\n",
        "\n",
        "accr = rf.score(x_test,y_test)*100\n",
        "print(\"Random Forest Algorithm Accuracy Score : {:.2f}%\".format(accr))"
      ],
      "execution_count": 140,
      "outputs": [
        {
          "output_type": "stream",
          "text": [
            "Random Forest Algorithm Accuracy Score : 73.77%\n"
          ],
          "name": "stdout"
        }
      ]
    },
    {
      "cell_type": "markdown",
      "metadata": {
        "id": "XqrCTa6MkaHN",
        "colab_type": "text"
      },
      "source": [
        "The accuracy of different models is different. The **KNN** model gives 80% accuracy while **Support Vector Machine** is 78.69% accurate. The **Radnom forest** gives 75.41% accuracy. The **Logistic Regeressuin** is only 73.77% accurate. It can be seen that KNN is the best accurate model but still I will look into the confusion matrix to see which model gives the best pridiction on target value. The next section will be for evaulation of these models.\n"
      ]
    },
    {
      "cell_type": "markdown",
      "metadata": {
        "id": "aWfYmIsdj5Xl",
        "colab_type": "text"
      },
      "source": [
        "#Evaluation"
      ]
    },
    {
      "cell_type": "markdown",
      "metadata": {
        "id": "y3pvu2P_j9Bz",
        "colab_type": "text"
      },
      "source": [
        "This section will contain the accuracy and confusion matrix for the model. The model will be evaluated to check the score for the target value. The confusion matrix is build for different model to check the accuracy for the target values. Later, classification report is build to give the f1 score for target values. Different library are imported to achieve this goal."
      ]
    },
    {
      "cell_type": "code",
      "metadata": {
        "id": "Ya_L9Ejv39xt",
        "colab_type": "code",
        "colab": {}
      },
      "source": [
        "from sklearn.metrics import confusion_matrix\n",
        "y_head_logistic_regerssion = l.predict(x_test)\n",
        "knn = KNeighborsClassifier(n_neighbors = 3)\n",
        "knn.fit(x_train, y_train)\n",
        "y_head_knn = knn.predict(x_test)\n",
        "y_head_svm = svm.predict(x_test)\n",
        "y_head_rf = rf.predict(x_test)"
      ],
      "execution_count": 0,
      "outputs": []
    },
    {
      "cell_type": "code",
      "metadata": {
        "id": "ca-6vJrOombo",
        "colab_type": "code",
        "colab": {}
      },
      "source": [
        "confusion_m_logistic_regression = confusion_matrix(y_test,y_head_logistic_regerssion)\n",
        "confusion_m_knn = confusion_matrix(y_test,y_head_knn)\n",
        "confusion_m_svm = confusion_matrix(y_test,y_head_svm)\n",
        "confusion_m_rf = confusion_matrix(y_test,y_head_rf)"
      ],
      "execution_count": 0,
      "outputs": []
    },
    {
      "cell_type": "markdown",
      "metadata": {
        "id": "nheIKxDj5991",
        "colab_type": "text"
      },
      "source": [
        "The first confusion matrix is for Logistic Regression.The figure is shown below."
      ]
    },
    {
      "cell_type": "code",
      "metadata": {
        "id": "tjDxMDjOprb_",
        "colab_type": "code",
        "outputId": "b97f1cf6-d579-412b-febd-0a125f448711",
        "colab": {
          "base_uri": "https://localhost:8080/",
          "height": 623
        }
      },
      "source": [
        "plot.figure(figsize=(15,10))\n",
        "\n",
        "plot.title(\"Confusion Matrixes\",fontsize=20)\n",
        "plot.plot(wspace = 0.4, hspace= 0.4)\n",
        "\n",
        "plot.subplot(1,1,1)\n",
        "plot.title(\"Confusion Matrix Logistic Regression\")\n",
        "sns.heatmap(confusion_m_logistic_regression,annot=True,cmap=\"Blues\",fmt=\"d\",cbar=False, annot_kws={\"size\": 24})"
      ],
      "execution_count": 143,
      "outputs": [
        {
          "output_type": "execute_result",
          "data": {
            "text/plain": [
              "<matplotlib.axes._subplots.AxesSubplot at 0x7fb87e8ad828>"
            ]
          },
          "metadata": {
            "tags": []
          },
          "execution_count": 143
        },
        {
          "output_type": "display_data",
          "data": {
            "image/png": "[encoded data removed]",
            "text/plain": [
              "<Figure size 1080x720 with 1 Axes>"
            ]
          },
          "metadata": {
            "tags": []
          }
        }
      ]
    },
    {
      "cell_type": "markdown",
      "metadata": {
        "id": "RFxEioMD6Kri",
        "colab_type": "text"
      },
      "source": [
        "The second confusion matrix is for K-Nearest Neighbour.The figure is shown below."
      ]
    },
    {
      "cell_type": "code",
      "metadata": {
        "id": "m07IHB0ep3v_",
        "colab_type": "code",
        "outputId": "ba7e220a-6483-468c-af6c-18d9df46f44c",
        "colab": {
          "base_uri": "https://localhost:8080/",
          "height": 531
        }
      },
      "source": [
        "plot.subplot(1,1,1)\n",
        "plot.title(\"K-Nearest Neighbour Confusion Matrix\")\n",
        "sns.heatmap(confusion_m_knn,annot=True,cmap=\"Blues\",fmt=\"d\",cbar=False, annot_kws={\"size\": 24})"
      ],
      "execution_count": 144,
      "outputs": [
        {
          "output_type": "execute_result",
          "data": {
            "text/plain": [
              "<matplotlib.axes._subplots.AxesSubplot at 0x7fb87e8adef0>"
            ]
          },
          "metadata": {
            "tags": []
          },
          "execution_count": 144
        },
        {
          "output_type": "display_data",
          "data": {
            "image/png": "[encoded data removed]",
            "text/plain": [
              "<Figure size 842.4x597.6 with 1 Axes>"
            ]
          },
          "metadata": {
            "tags": []
          }
        }
      ]
    },
    {
      "cell_type": "markdown",
      "metadata": {
        "id": "Lmg9JCKR6QxH",
        "colab_type": "text"
      },
      "source": [
        "The Third confusion matrix is for Support Vector Machine.The figure is shown below."
      ]
    },
    {
      "cell_type": "code",
      "metadata": {
        "id": "S1NvObp8rI2L",
        "colab_type": "code",
        "outputId": "9ef87969-8dca-4f72-9bfa-14b941d2f5bf",
        "colab": {
          "base_uri": "https://localhost:8080/",
          "height": 531
        }
      },
      "source": [
        "plot.subplot(1,1,1)\n",
        "plot.title(\"Support Vector Machine Confusion Matrix\")\n",
        "sns.heatmap(confusion_m_svm,annot=True,cmap=\"Blues\",fmt=\"d\",cbar=False, annot_kws={\"size\": 24})"
      ],
      "execution_count": 145,
      "outputs": [
        {
          "output_type": "execute_result",
          "data": {
            "text/plain": [
              "<matplotlib.axes._subplots.AxesSubplot at 0x7fb87eb3bb38>"
            ]
          },
          "metadata": {
            "tags": []
          },
          "execution_count": 145
        },
        {
          "output_type": "display_data",
          "data": {
            "image/png": "[encoded data removed]",
            "text/plain": [
              "<Figure size 842.4x597.6 with 1 Axes>"
            ]
          },
          "metadata": {
            "tags": []
          }
        }
      ]
    },
    {
      "cell_type": "markdown",
      "metadata": {
        "id": "U3__oTWG6U1n",
        "colab_type": "text"
      },
      "source": [
        "The Fourth confusion matrix is for Random Forest.The figure is shown below."
      ]
    },
    {
      "cell_type": "code",
      "metadata": {
        "id": "IxmdTkOFrdIV",
        "colab_type": "code",
        "outputId": "47f14f26-1f6f-4671-c3b8-e069b515d07b",
        "colab": {
          "base_uri": "https://localhost:8080/",
          "height": 531
        }
      },
      "source": [
        "plot.subplot(1,1,1)\n",
        "plot.title(\"Confusion Matrix for Random Forest\")\n",
        "sns.heatmap(confusion_m_rf,annot=True,cmap=\"Blues\",fmt=\"d\",cbar=False, annot_kws={\"size\": 24})"
      ],
      "execution_count": 146,
      "outputs": [
        {
          "output_type": "execute_result",
          "data": {
            "text/plain": [
              "<matplotlib.axes._subplots.AxesSubplot at 0x7fb87ed2f198>"
            ]
          },
          "metadata": {
            "tags": []
          },
          "execution_count": 146
        },
        {
          "output_type": "display_data",
          "data": {
            "image/png": "[encoded data removed]",
            "text/plain": [
              "<Figure size 842.4x597.6 with 1 Axes>"
            ]
          },
          "metadata": {
            "tags": []
          }
        }
      ]
    },
    {
      "cell_type": "markdown",
      "metadata": {
        "id": "cHJfZyPB6fFd",
        "colab_type": "text"
      },
      "source": [
        "After compare each model the KNN model is chosen for further analysis. The sole reason is the accuracy rate for each target value in KNN is pridicted correctly and the error rate is low for this particular model. The classification report will be generated for KNN in the below step."
      ]
    },
    {
      "cell_type": "code",
      "metadata": {
        "id": "XW8_rRA9rl-W",
        "colab_type": "code",
        "outputId": "5c36ebd2-21ae-4b51-a79f-539df24e48a7",
        "colab": {
          "base_uri": "https://localhost:8080/",
          "height": 163
        }
      },
      "source": [
        "##KNN Classification Report\n",
        "from sklearn.metrics import classification_report\n",
        "print(classification_report(y_test,prediction))"
      ],
      "execution_count": 147,
      "outputs": [
        {
          "output_type": "stream",
          "text": [
            "              precision    recall  f1-score   support\n",
            "\n",
            "           0       0.29      0.30      0.29        27\n",
            "           1       0.42      0.41      0.42        34\n",
            "\n",
            "    accuracy                           0.36        61\n",
            "   macro avg       0.35      0.35      0.35        61\n",
            "weighted avg       0.36      0.36      0.36        61\n",
            "\n"
          ],
          "name": "stdout"
        }
      ]
    },
    {
      "cell_type": "markdown",
      "metadata": {
        "id": "V72W07XX69k5",
        "colab_type": "text"
      },
      "source": [
        "#Conclusion\n",
        "The heart disease is one of the common issue in human being which leads to death. The algorithm used in this report will help in pridicting wheather a patient have a heart disease or not. It is seen that the high calastoral leads to high blood pressure which results in heart diseases. Also, Older people has less chances of getting a heart disease. Also, if the sugar level is high the chances of having a heart disease is high as well. It is also found that the female have more heart disease compare to male. Different chest pain type have different impact on the heart. Type 1 and Type 2 has more heart disease. The algorithm pridicted great accuracy for this particular dataset. In the future, more algorithm can be used to see the change in the accuracy level. Also, different factors such as thalasemia or depression can also be dig further down to see the trend. Further, adjustment of parameter can also be looked into for the future. In a nutshell, serval factors play into the cause of having a heart disease."
      ]
    },
    {
      "cell_type": "markdown",
      "metadata": {
        "id": "7Tw-vXWMxW5-",
        "colab_type": "text"
      },
      "source": [
        "#Reference"
      ]
    },
    {
      "cell_type": "markdown",
      "metadata": {
        "id": "i-QMzHM0xaAI",
        "colab_type": "text"
      },
      "source": [
        "\n",
        "\n",
        "1.   \n",
        "https://www.kaggle.com/kralmachine/analyzing-the-heart-disease/data \n",
        "\n",
        "\n",
        "2.   https://www.kaggle.com/cdabakoglu/heart-disease-classifications-machine-learning/notebook \n",
        "\n",
        "\n",
        "3.   https://www.kaggle.com/mgancita/what-causes-heart-disease \n",
        "\n",
        "4.   https://www.kaggle.com/tentotheminus9/what-causes-heart-disease-explaining-the-model/notebook\n",
        "\n",
        "\n",
        "5.   https://www.ahajournals.org/doi/10.1161/CIR.0000000000000659\n",
        "\n",
        "\n",
        "\n",
        "\n",
        "\n",
        "\n",
        "\n"
      ]
    }
  ]
}